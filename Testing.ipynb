{
 "cells": [
  {
   "cell_type": "code",
   "execution_count": 14,
   "metadata": {},
   "outputs": [
    {
     "ename": "NameError",
     "evalue": "name 'val_df' is not defined",
     "output_type": "error",
     "traceback": [
      "\u001b[0;31m---------------------------------------------------------------------------\u001b[0m",
      "\u001b[0;31mNameError\u001b[0m                                 Traceback (most recent call last)",
      "Cell \u001b[0;32mIn[14], line 43\u001b[0m\n\u001b[1;32m     36\u001b[0m     \u001b[38;5;28;01mreturn\u001b[39;00m \u001b[38;5;124m\"\u001b[39m\u001b[38;5;124mIncrease\u001b[39m\u001b[38;5;124m\"\u001b[39m \u001b[38;5;28;01mif\u001b[39;00m prediction \u001b[38;5;241m==\u001b[39m \u001b[38;5;241m1\u001b[39m \u001b[38;5;28;01melse\u001b[39;00m \u001b[38;5;124m\"\u001b[39m\u001b[38;5;124mDecrease\u001b[39m\u001b[38;5;124m\"\u001b[39m\n\u001b[1;32m     38\u001b[0m \u001b[38;5;66;03m# Example usage\u001b[39;00m\n\u001b[1;32m     39\u001b[0m \u001b[38;5;66;03m# headline = \"everythin is bad and the world is ending\"\u001b[39;00m\n\u001b[1;32m     40\u001b[0m \u001b[38;5;66;03m# print(predict_headline(headline, tokenizer, model, torch.device(\"cpu\")))\u001b[39;00m\n\u001b[1;32m     41\u001b[0m \n\u001b[1;32m     42\u001b[0m \u001b[38;5;66;03m# Testing the model with a small sample from the validation set\u001b[39;00m\n\u001b[0;32m---> 43\u001b[0m test_sample \u001b[38;5;241m=\u001b[39m \u001b[43mval_df\u001b[49m\u001b[38;5;241m.\u001b[39msample(n\u001b[38;5;241m=\u001b[39m\u001b[38;5;241m5\u001b[39m)\u001b[38;5;241m.\u001b[39mreset_index(drop\u001b[38;5;241m=\u001b[39m\u001b[38;5;28;01mTrue\u001b[39;00m)\n\u001b[1;32m     44\u001b[0m test_data_loader \u001b[38;5;241m=\u001b[39m create_data_loader(test_sample, tokenizer, MAX_LEN, \u001b[38;5;241m1\u001b[39m)  \u001b[38;5;66;03m# Single batch size for individual assessment\u001b[39;00m\n\u001b[1;32m     46\u001b[0m predictions, real_values \u001b[38;5;241m=\u001b[39m evaluate(model, test_data_loader, device)\n",
      "\u001b[0;31mNameError\u001b[0m: name 'val_df' is not defined"
     ]
    }
   ],
   "source": [
    "import torch\n",
    "from transformers import GPT2Tokenizer, GPT2ForSequenceClassification\n",
    "\n",
    "# Load the tokenizer from the saved files\n",
    "tokenizer = GPT2Tokenizer.from_pretrained('model_tokenizer')\n",
    "\n",
    "# Instantiate the model with the saved configuration\n",
    "config = GPT2Config.from_pretrained('model_tokenizer')\n",
    "model = GPT2ForSequenceClassification(config)\n",
    "\n",
    "# Load the trained model weights from the .pth file\n",
    "model.load_state_dict(torch.load('gpt2_sentiment_analysis.pth', map_location=torch.device('cpu')))\n",
    "\n",
    "# Set the model to evaluation mode\n",
    "model.eval()  \n",
    "model.to(torch.device(\"cuda\" if torch.cuda.is_available() else \"cpu\"))\n",
    "\n",
    "# Define a prediction function\n",
    "def predict_headline(headline, tokenizer, model, device):\n",
    "    model.eval()  # Ensure the model is in evaluation mode\n",
    "    inputs = tokenizer.encode_plus(\n",
    "        headline, \n",
    "        return_tensors=\"pt\", \n",
    "        max_length=512, \n",
    "        truncation=True, \n",
    "        padding=\"max_length\"\n",
    "    )\n",
    "\n",
    "    input_ids = inputs['input_ids'].to(device)\n",
    "    attention_mask = inputs['attention_mask'].to(device)\n",
    "\n",
    "    with torch.no_grad():\n",
    "        outputs = model(input_ids=input_ids, attention_mask=attention_mask)\n",
    "        prediction = torch.argmax(outputs.logits, dim=-1)\n",
    "        \n",
    "    return \"Increase\" if prediction == 1 else \"Decrease\"\n",
    "\n",
    "# Example usage\n",
    "# headline = \"everythin is bad and the world is ending\"\n",
    "# print(predict_headline(headline, tokenizer, model, torch.device(\"cpu\")))\n",
    "\n",
    "# Testing the model with a small sample from the validation set\n",
    "test_sample = val_df.sample(n=5).reset_index(drop=True)\n",
    "test_data_loader = create_data_loader(test_sample, tokenizer, MAX_LEN, 1)  # Single batch size for individual assessment\n",
    "\n",
    "predictions, real_values = evaluate(model, test_data_loader, device)\n",
    "\n",
    "# Print predictions and actual labels\n",
    "for i in range(len(predictions)):\n",
    "    print(f\"Headline: {test_sample['All_Headlines'].iloc[i]}\")\n",
    "    print(f\"Predicted sentiment: {'Increase' if predictions[i] == 1 else 'Decrease'}\")\n",
    "    print(f\"Actual movement: {'Increase' if real_values[i] == 1 else 'Decrease'}\")\n",
    "    print(\"---\")\n"
   ]
  },
  {
   "cell_type": "code",
   "execution_count": null,
   "metadata": {},
   "outputs": [],
   "source": []
  }
 ],
 "metadata": {
  "kernelspec": {
   "display_name": "Python 3",
   "language": "python",
   "name": "python3"
  },
  "language_info": {
   "codemirror_mode": {
    "name": "ipython",
    "version": 3
   },
   "file_extension": ".py",
   "mimetype": "text/x-python",
   "name": "python",
   "nbconvert_exporter": "python",
   "pygments_lexer": "ipython3",
   "version": "3.12.2"
  }
 },
 "nbformat": 4,
 "nbformat_minor": 2
}
