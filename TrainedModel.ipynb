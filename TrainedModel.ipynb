{
 "cells": [
  {
   "cell_type": "code",
   "execution_count": 12,
   "metadata": {},
   "outputs": [],
   "source": [
    "import numpy as np\n",
    "from sklearn.preprocessing import StandardScaler\n",
    "from sklearn.feature_extraction.text import CountVectorizer\n",
    "from sklearn.preprocessing import LabelEncoder\n",
    "from sklearn.preprocessing import MaxAbsScaler\n",
    "import pandas as pd\n",
    "import torch\n",
    "from torch.utils.data import Dataset, DataLoader\n",
    "from transformers import GPT2Tokenizer, GPT2ForSequenceClassification, GPT2Config, AdamW\n",
    "from sklearn.model_selection import train_test_split\n",
    "from tqdm.auto import tqdm\n",
    "from sklearn.metrics import balanced_accuracy_score"
   ]
  },
  {
   "cell_type": "markdown",
   "metadata": {},
   "source": [
    "In this Jupyter Notebook, we are building a model to predict the movement of the Dow Jones Industrial Average (DJIA) based on daily news headlines. \n",
    "\n",
    "We start by importing necessary libraries and modules. These include numpy for numerical operations, pandas for data manipulation, sklearn for preprocessing and model selection, torch for deep learning, transformers for the GPT-2 model, and tqdm for progress bars.\n",
    "\n",
    "Next, we load and preprocess the dataset. The dataset is a CSV file named 'Combined_News_DJIA.csv'. Each record in the dataset consists of the date, the DJIA label (1 for increase, 0 for decrease), and 25 top news headlines for the day. We concatenate all the news headlines into a single string for each record.\n",
    "\n",
    "We then split the dataset into a training set and a validation set using a 80-20 split."
   ]
  },
  {
   "cell_type": "code",
   "execution_count": 13,
   "metadata": {},
   "outputs": [],
   "source": [
    "# Load and preprocess the dataset\n",
    "data = pd.read_csv('Datasets/Combined_News_DJIA.csv')\n",
    "\n",
    "# Concatenate all the news headlines into a single string for each record\n",
    "# Optimized by directly using pandas functionality\n",
    "data['All_Headlines'] = data.iloc[:, 2:].fillna('').apply(lambda x: ' '.join(x), axis=1)\n",
    "train_df, val_df = train_test_split(data, test_size=0.2, random_state=42)"
   ]
  },
  {
   "cell_type": "markdown",
   "metadata": {},
   "source": [
    "We define a custom Dataset class for tokenization and batching. This class takes in the headlines and labels, tokenizes the headlines using the GPT-2 tokenizer, and returns the input IDs, attention masks, and labels for each batch."
   ]
  },
  {
   "cell_type": "code",
   "execution_count": 14,
   "metadata": {},
   "outputs": [],
   "source": [
    "# Define a custom Dataset class for tokenization and batching\n",
    "class NewsDataset(Dataset):\n",
    "    def __init__(self, headlines, labels, tokenizer, max_len):\n",
    "        self.headlines = headlines\n",
    "        self.labels = labels\n",
    "        self.tokenizer = tokenizer\n",
    "        self.max_len = max_len\n",
    "        \n",
    "    def __len__(self):\n",
    "        return len(self.headlines)\n",
    "    \n",
    "    def __getitem__(self, item):\n",
    "        headline = str(self.headlines[item])\n",
    "        label = self.labels[item]\n",
    "        \n",
    "        encoding = self.tokenizer.encode_plus(\n",
    "            headline,\n",
    "            add_special_tokens=True,\n",
    "            max_length=self.max_len,\n",
    "            truncation=True,\n",
    "            padding='max_length',\n",
    "            return_attention_mask=True,\n",
    "            return_tensors='pt',\n",
    "        )\n",
    "        \n",
    "        return {\n",
    "            'headline_text': headline,\n",
    "            'input_ids': encoding['input_ids'].flatten(),\n",
    "            'attention_mask': encoding['attention_mask'].flatten(),\n",
    "            'labels': torch.tensor(label, dtype=torch.long)\n",
    "        }"
   ]
  },
  {
   "cell_type": "markdown",
   "metadata": {},
   "source": [
    "We create data loaders for batch processing. These data loaders take in a dataframe, a tokenizer, a maximum length for the headlines, and a batch size, and return a DataLoader object that can be used for training and evaluation."
   ]
  },
  {
   "cell_type": "code",
   "execution_count": 15,
   "metadata": {},
   "outputs": [
    {
     "name": "stderr",
     "output_type": "stream",
     "text": [
      "Some weights of GPT2ForSequenceClassification were not initialized from the model checkpoint at gpt2 and are newly initialized: ['score.weight']\n",
      "You should probably TRAIN this model on a down-stream task to be able to use it for predictions and inference.\n",
      "/Library/Frameworks/Python.framework/Versions/3.12/lib/python3.12/site-packages/transformers/optimization.py:429: FutureWarning: This implementation of AdamW is deprecated and will be removed in a future version. Use the PyTorch implementation torch.optim.AdamW instead, or set `no_deprecation_warning=True` to disable this warning\n",
      "  warnings.warn(\n"
     ]
    }
   ],
   "source": [
    "# Create data loaders for batch processing\n",
    "def create_data_loader(df, tokenizer, max_len, batch_size):\n",
    "    ds = NewsDataset(\n",
    "        headlines=df['All_Headlines'].to_numpy(),\n",
    "        labels=df['Label'].to_numpy(),\n",
    "        tokenizer=tokenizer,\n",
    "        max_len=max_len\n",
    "    )\n",
    "    \n",
    "    return DataLoader(ds, batch_size=batch_size, num_workers=0)\n",
    "\n",
    "tokenizer = GPT2Tokenizer.from_pretrained('gpt2')\n",
    "tokenizer.pad_token = tokenizer.eos_token  # Use EOS token as pad token\n",
    "\n",
    "MAX_LEN = 128\n",
    "BATCH_SIZE = 16\n",
    "\n",
    "model = GPT2ForSequenceClassification.from_pretrained('gpt2', num_labels=2)\n",
    "model.config.pad_token_id = model.config.eos_token_id  # Configuring pad token\n",
    "device = torch.device(\"cuda\" if torch.cuda.is_available() else \"cpu\")\n",
    "\n",
    "model.to(device)\n",
    "\n",
    "optimizer = AdamW(model.parameters(), lr=2e-5)\n",
    "\n",
    "train_data_loader = create_data_loader(train_df, tokenizer, MAX_LEN, BATCH_SIZE)\n",
    "val_data_loader = create_data_loader(val_df, tokenizer, MAX_LEN, BATCH_SIZE)"
   ]
  },
  {
   "cell_type": "markdown",
   "metadata": {},
   "source": [
    "We initialize the GPT-2 model for sequence classification with two labels, move it to the GPU if available, and define the AdamW optimizer for training. \n",
    "\n",
    "The code below defines a function called train_epoch that performs training and evaluation on a machine learning model using a given data loader. It iterates over the data loader, computes the model's outputs, calculates the loss, updates the model's parameters through backpropagation, and returns the accuracy and average loss for the epoch."
   ]
  },
  {
   "cell_type": "code",
   "execution_count": 16,
   "metadata": {},
   "outputs": [],
   "source": [
    "# Training function with model evaluation on validation data\n",
    "def train_epoch(model, data_loader, optimizer, device, n_examples):\n",
    "    model.train()\n",
    "    losses = []\n",
    "    correct_predictions = 0\n",
    "    \n",
    "    for d in tqdm(data_loader, desc=\"Training\"):\n",
    "        input_ids = d['input_ids'].to(device)\n",
    "        attention_mask = d['attention_mask'].to(device)\n",
    "        labels = d['labels'].to(device)\n",
    "        \n",
    "        outputs = model(\n",
    "            input_ids=input_ids,\n",
    "            attention_mask=attention_mask,\n",
    "            labels=labels\n",
    "        )\n",
    "        \n",
    "        loss = outputs.loss\n",
    "        logits = outputs.logits\n",
    "        _, preds = torch.max(logits, dim=1)\n",
    "        correct_predictions += torch.sum(preds == labels)\n",
    "        losses.append(loss.item())\n",
    "        \n",
    "        loss.backward()\n",
    "        optimizer.step()\n",
    "        optimizer.zero_grad()\n",
    "    \n",
    "    return correct_predictions.double() / n_examples, np.mean(losses)"
   ]
  },
  {
   "cell_type": "markdown",
   "metadata": {},
   "source": [
    "The code below is a training loop with early stopping for a machine learning model. It trains the model for a specified number of epochs and evaluates its performance on a validation dataset after each epoch. If the validation accuracy improves, the model's state is saved as the best model so far. If the validation accuracy does not improve for a certain number of epochs (defined by the early stopping limit), the training loop is stopped and the best model is reloaded. The code also includes the implementation of the train_epoch function, which performs one training epoch for the model using a data loader."
   ]
  },
  {
   "cell_type": "code",
   "execution_count": 19,
   "metadata": {},
   "outputs": [],
   "source": [
    "# Define the eval_model function here\n",
    "def eval_model(model, data_loader, device, n_examples):\n",
    "    model.eval()\n",
    "    losses = []\n",
    "    correct_predictions = 0\n",
    "\n",
    "    with torch.no_grad():\n",
    "        for d in data_loader:\n",
    "            input_ids = d['input_ids'].to(device)\n",
    "            attention_mask = d['attention_mask'].to(device)\n",
    "            labels = d['labels'].to(device)\n",
    "\n",
    "            outputs = model(\n",
    "                input_ids=input_ids,\n",
    "                attention_mask=attention_mask,\n",
    "                labels=labels\n",
    "            )\n",
    "\n",
    "            loss = outputs.loss\n",
    "            logits = outputs.logits\n",
    "            _, preds = torch.max(logits, dim=1)\n",
    "            correct_predictions += torch.sum(preds == labels)\n",
    "            losses.append(loss.item())\n",
    "\n",
    "    return correct_predictions.double() / n_examples, np.mean(losses)\n"
   ]
  },
  {
   "cell_type": "code",
   "execution_count": 20,
   "metadata": {},
   "outputs": [
    {
     "name": "stdout",
     "output_type": "stream",
     "text": [
      "Epoch 1/10\n",
      "----------\n"
     ]
    },
    {
     "name": "stderr",
     "output_type": "stream",
     "text": [
      "Training: 100%|██████████| 100/100 [03:47<00:00,  2.28s/it]\n"
     ]
    },
    {
     "name": "stdout",
     "output_type": "stream",
     "text": [
      "Train loss 0.687165886759758 accuracy 0.5537397862979259\n",
      "Val loss 0.7180005979537963 accuracy 0.4723618090452261\n",
      "Epoch 2/10\n",
      "----------\n"
     ]
    },
    {
     "name": "stderr",
     "output_type": "stream",
     "text": [
      "Training: 100%|██████████| 100/100 [03:34<00:00,  2.15s/it]\n"
     ]
    },
    {
     "name": "stdout",
     "output_type": "stream",
     "text": [
      "Train loss 0.6530856329202652 accuracy 0.6172218730358265\n",
      "Val loss 0.7435610342025757 accuracy 0.4849246231155779\n",
      "Epoch 3/10\n",
      "----------\n"
     ]
    },
    {
     "name": "stderr",
     "output_type": "stream",
     "text": [
      "Training: 100%|██████████| 100/100 [03:38<00:00,  2.18s/it]\n"
     ]
    },
    {
     "name": "stdout",
     "output_type": "stream",
     "text": [
      "Train loss 0.5784229359030724 accuracy 0.7020741671904462\n",
      "Val loss 0.8035862565040588 accuracy 0.4824120603015075\n",
      "Epoch 4/10\n",
      "----------\n"
     ]
    },
    {
     "name": "stderr",
     "output_type": "stream",
     "text": [
      "Training: 100%|██████████| 100/100 [03:37<00:00,  2.18s/it]\n"
     ]
    },
    {
     "name": "stdout",
     "output_type": "stream",
     "text": [
      "Train loss 0.44692241862416265 accuracy 0.7944688874921433\n",
      "Val loss 0.8707500100135803 accuracy 0.4899497487437186\n",
      "Epoch 5/10\n",
      "----------\n"
     ]
    },
    {
     "name": "stderr",
     "output_type": "stream",
     "text": [
      "Training: 100%|██████████| 100/100 [03:36<00:00,  2.17s/it]\n"
     ]
    },
    {
     "name": "stdout",
     "output_type": "stream",
     "text": [
      "Train loss 0.2690195171907544 accuracy 0.8975487115021998\n",
      "Val loss 1.0900764107704162 accuracy 0.4899497487437186\n",
      "Epoch 6/10\n",
      "----------\n"
     ]
    },
    {
     "name": "stderr",
     "output_type": "stream",
     "text": [
      "Training: 100%|██████████| 100/100 [03:34<00:00,  2.15s/it]\n"
     ]
    },
    {
     "name": "stdout",
     "output_type": "stream",
     "text": [
      "Train loss 0.15249558406881988 accuracy 0.950345694531741\n",
      "Val loss 1.1220964288711548 accuracy 0.5\n",
      "Epoch 7/10\n",
      "----------\n"
     ]
    },
    {
     "name": "stderr",
     "output_type": "stream",
     "text": [
      "Training: 100%|██████████| 100/100 [03:35<00:00,  2.15s/it]\n"
     ]
    },
    {
     "name": "stdout",
     "output_type": "stream",
     "text": [
      "Train loss 0.08793571271002293 accuracy 0.9824010056568196\n",
      "Val loss 1.5177232837677002 accuracy 0.4798994974874372\n",
      "Epoch 8/10\n",
      "----------\n"
     ]
    },
    {
     "name": "stderr",
     "output_type": "stream",
     "text": [
      "Training: 100%|██████████| 100/100 [03:34<00:00,  2.14s/it]\n"
     ]
    },
    {
     "name": "stdout",
     "output_type": "stream",
     "text": [
      "Train loss 0.05843898297753185 accuracy 0.9880578252671276\n",
      "Val loss 1.5878902220726012 accuracy 0.46984924623115576\n",
      "Epoch 9/10\n",
      "----------\n"
     ]
    },
    {
     "name": "stderr",
     "output_type": "stream",
     "text": [
      "Training: 100%|██████████| 100/100 [03:33<00:00,  2.14s/it]\n"
     ]
    },
    {
     "name": "stdout",
     "output_type": "stream",
     "text": [
      "Train loss 0.04322270812932402 accuracy 0.9905719673161534\n",
      "Val loss 1.6578028035163879 accuracy 0.46733668341708545\n",
      "Epoch 10/10\n",
      "----------\n"
     ]
    },
    {
     "name": "stderr",
     "output_type": "stream",
     "text": [
      "Training: 100%|██████████| 100/100 [03:50<00:00,  2.31s/it]\n"
     ]
    },
    {
     "name": "stdout",
     "output_type": "stream",
     "text": [
      "Train loss 0.034880156663712115 accuracy 0.9918290383406663\n",
      "Val loss 1.8640478682518005 accuracy 0.45979899497487436\n",
      "Early stopping, reloading checkpoint model\n"
     ]
    }
   ],
   "source": [
    "# Set the number of epochs for training\n",
    "EPOCHS = 10\n",
    "\n",
    "# Initialize the best validation accuracy to 0\n",
    "best_val_accuracy = 0\n",
    "\n",
    "# Initialize the early stopping counter to 0\n",
    "early_stopping_counter = 0\n",
    "\n",
    "# Set the limit for early stopping\n",
    "early_stopping_limit = 3\n",
    "\n",
    "# Start the training loop\n",
    "for epoch in range(EPOCHS):\n",
    "    print(f'Epoch {epoch + 1}/{EPOCHS}')\n",
    "    print('-' * 10)\n",
    "\n",
    "    # Train the model for one epoch and get the training accuracy and loss\n",
    "    train_acc, train_loss = train_epoch(\n",
    "        model,\n",
    "        train_data_loader,\n",
    "        optimizer,\n",
    "        device,\n",
    "        len(train_df)\n",
    "    )\n",
    "    print(f'Train loss {train_loss} accuracy {train_acc}')\n",
    "\n",
    "    # Evaluate the model on the validation data and get the validation accuracy and loss\n",
    "    val_acc, val_loss = eval_model(\n",
    "        model,\n",
    "        val_data_loader,\n",
    "        device,\n",
    "        len(val_df)\n",
    "    )\n",
    "    print(f'Val loss {val_loss} accuracy {val_acc}')\n",
    "\n",
    "    # If the validation accuracy is better than the best so far, save the model's state and reset the early stopping counter\n",
    "    if val_acc > best_val_accuracy:\n",
    "        torch.save(model.state_dict(), 'best_model_state.bin')\n",
    "        best_val_accuracy = val_acc\n",
    "        early_stopping_counter = 0\n",
    "    else:\n",
    "        # If the validation accuracy did not improve, increment the early stopping counter\n",
    "        early_stopping_counter += 1\n",
    "\n",
    "    # If the early stopping counter exceeds the limit, stop training and load the best model's state\n",
    "    if early_stopping_counter > early_stopping_limit:\n",
    "        print(\"Early stopping, reloading checkpoint model\")\n",
    "        model.load_state_dict(torch.load('best_model_state.bin'))\n",
    "        break"
   ]
  },
  {
   "cell_type": "code",
   "execution_count": 25,
   "metadata": {},
   "outputs": [
    {
     "name": "stdout",
     "output_type": "stream",
     "text": [
      "Balanced Accuracy Score (Validation): 0.5082953345183812\n"
     ]
    }
   ],
   "source": [
    "# Evaluation function and accuracy calculation\n",
    "def evaluate(model, data_loader, device):\n",
    "    # Set the model to evaluation mode\n",
    "    model.eval()\n",
    "    \n",
    "    # Initialize lists to store predictions and real values\n",
    "    predictions = []\n",
    "    real_values = []\n",
    "\n",
    "    # Disable gradient calculations\n",
    "    with torch.no_grad():\n",
    "        # Iterate over batches from the data loader\n",
    "        for d in data_loader:\n",
    "            # Move input and attention mask to device\n",
    "            input_ids = d[\"input_ids\"].to(device)\n",
    "            attention_mask = d[\"attention_mask\"].to(device)\n",
    "            \n",
    "            # Get model outputs\n",
    "            outputs = model(\n",
    "                input_ids=input_ids,\n",
    "                attention_mask=attention_mask\n",
    "            )\n",
    "            \n",
    "            # Get the predicted class with the highest probability\n",
    "            _, preds = torch.max(outputs.logits, dim=1)\n",
    "            \n",
    "            # Add the predictions and real values to their respective lists\n",
    "            predictions.extend(preds)\n",
    "            real_values.extend(d[\"labels\"])\n",
    "    \n",
    "    # Convert lists to tensors and move them to CPU\n",
    "    predictions = torch.stack(predictions).cpu()\n",
    "    real_values = torch.stack(real_values).cpu()\n",
    "    \n",
    "    # Return predictions and real values\n",
    "    return predictions, real_values"
   ]
  },
  {
   "cell_type": "markdown",
   "metadata": {},
   "source": [
    "## Evaluation"
   ]
  },
  {
   "cell_type": "markdown",
   "metadata": {},
   "source": [
    "Evaluation Report seeing balanced accuracy score, and test accuracy"
   ]
  },
  {
   "cell_type": "code",
   "execution_count": 30,
   "metadata": {},
   "outputs": [
    {
     "name": "stdout",
     "output_type": "stream",
     "text": [
      "              precision    recall  f1-score   support\n",
      "\n",
      "           0       0.44      0.57      0.49       171\n",
      "           1       0.58      0.45      0.51       227\n",
      "\n",
      "    accuracy                           0.50       398\n",
      "   macro avg       0.51      0.51      0.50       398\n",
      "weighted avg       0.52      0.50      0.50       398\n",
      "\n",
      "Test Accuracy: 0.5\n",
      "Balanced Accuracy Score (Validation): 0.5082953345183812\n"
     ]
    }
   ],
   "source": [
    "from sklearn.metrics import accuracy_score, classification_report\n",
    "\n",
    "# Load the best saved model (if early stopping occurred)\n",
    "model.load_state_dict(torch.load('best_model_state.bin'))\n",
    "\n",
    "# Test the best model to get the final classification report and accuracy\n",
    "test_predictions, test_real_values = evaluate(model, val_data_loader, device)\n",
    "print(classification_report(test_real_values, test_predictions))\n",
    "print(\"Test Accuracy:\", accuracy_score(test_real_values, test_predictions))\n",
    "\n",
    "# Calculate the balanced accuracy score\n",
    "val_predictions, val_real_values = evaluate(model, val_data_loader, device)\n",
    "\n",
    "# Calculate and print the balanced accuracy score for the entire validation set\n",
    "balanced_accuracy_val = balanced_accuracy_score(val_real_values.numpy(), val_predictions.numpy())\n",
    "print(\"Balanced Accuracy Score (Validation):\", balanced_accuracy_val)"
   ]
  },
  {
   "cell_type": "markdown",
   "metadata": {},
   "source": [
    "Check examples on actual evaluations"
   ]
  },
  {
   "cell_type": "code",
   "execution_count": 27,
   "metadata": {},
   "outputs": [
    {
     "name": "stdout",
     "output_type": "stream",
     "text": [
      "Headline: b'Greece: Union activist loses her eye in acid attack. Her supporters blockade company. Riot police \"forced to run leaving shields, helmets and even shoes behind.\"' b'Israel has been in violation of international law since 1967, protected by the United States veto of UN Resolutions condemning Israel for its violent, inhumane, barbaric, and illegal acts.' b'Zbigniew Brzezinski to Joe Scarborough on Gaza: \"You know, you have such a stunningly superficial knowledge of what went on that it\\'s almost embarrassing to listen to you.\"' b'Iceland after the fall' b'Russia is to shut off gas supplies to Ukraine, raising fears of European energy shortages' b'Video about living conditions in Gaza (from 2007)' b'\"Here is a simple, stone cold fact. You cannot read or hear the truth about what is happening in Gaza from any corporate media in the United States.\"' b'MP wins support to ban topless sunbathing on Aussie beaches' b\"The IL Gov scandal is wrong, but almost EVERY election/bill/decision victory is directly correlated to the amount of money spent.  So, what ISN'T for sale?\" b\"While everyone was focusing on Israel and Hamas, a terrorist organization elsewhere killed 189. Is a Palestinian's life more noteworthy than these people's?\" b'Christmas Massacres - Ugandan rebels kill 400 in DR Congo' b'Sex offenders must hand over online passwords' b\"Some Myths about Israel's Attacks on Gaza\" b'Does anybody really think Israel would be a peaceful nation even if the Palestinians gave all of their land to Israel?' b'This Sun Times story was censored for political reasons. No shit. Go ahead. Try to find the original. ' b'The original, legal owners of the Israeli land on which Hamas rockets are detonating live in Gaza.' b'The Emperor IS Naked - The story behind the Gaza initiative' b\"Iran shuts down leading reformist newspaper for criticizing Hamas' attacks and human shield use\" b'Volunteer suicide bombers seek to attack Israel' b'Over 70,000 deaths, and over 1 million disabilities among American soldiers attributed to Iraq Wars' b'Brigitte Bardot\\'s \"Hate Crime\" Against Islam - Freedom of speach abolished in France (and in most of Europe)' b'Israel calls Gazans to warn them to flee for their safety' b'Israel: If this is how the Children of God act, what are the Children of the Devil,' b'ABC News: All (Illegal Immigrants) Aboard ICE Air' b\"Polygamy in the UK : Woman didn't know new husband was already married.\"\n",
      "Predicted sentiment: Increase\n",
      "Actual movement: Increase\n",
      "---\n",
      "Headline: Just miles from the US border, Lexmark fires 90 long-term employees who asked for their pay to be increased by 6 pesos to 120 pesos ($7) a day. IS Has Lost 40% Of Its Iraqi Territory French teacher invented school attack Putin signs law allowing Russia to overturn rulings of international rights courts Pope refuses to wear bullet proof vest for Christmas speech amid ISIS threat... Burundi: Help us, the world needs to know that a genocide is underway Germany arrests Islamist preacher on charges of recruiting militants. Decline in over 3/4 of UK butterfly species is 'final warning', says Chris Packham - Conservationist calls for urgent research into disappearance of British butterflies after survey reveals dramatic declines in common species over last 40 yrs An increasing number of asylum seekers from Afghanistan, Iraq and Kosovo are returning to their countries, saying that they had expected better care and a shorter asylum process in Austria. Never Mind $35, The World's Cheapest Oil Is Already Close to $20 The FBI has arrested a Maryland man who they say received about $9,000 from IS to carry out an attack in the US | Mohamed Elshinawy, 30, is being held on a number of charges. Egypt must immediately release a 14-year-old boy who says he was sexually abused in detention by police using a wooden stick and bring his alleged torturers to justice, Amnesty International said. Romanian lawmakers vote to ban medicine ads to stop self-diagnosis 29-year-old arrested and two are held over January Charlie Hebdo massacre Shrimp sold by global supermarkets is peeled by slave labourers in Thailand NZ confirms Silver Fern as flag referendum candidate Teacher who allegedly made up ISIS knife attack in Paris 'could face prosecution' Two unpublished investigations show that the United States has consistently overlooked killings and torture by Iraqi government-sponsored Shi'ite militias. Saudi Arabia forms coalition of 34 Islamic countries to fight terrorism China and Israel boost science research ties: The joint research will be conducted in the fields of brain sciences, nanotechnology, 3-D printing, biomedicine, renewable energy, computer sciences, the aging of the population, smart cities and more UK Astronaut Tim Peake begins his landmark flight to the ISS U.S. tech firms that don't adequately warn users in Europe how their information is going to be used could face fines in the billions of dollars under a new European privacy protection directive expected to be agreed upon on Tuesday. There is no Nazi gold train, Polish scientists say: Scientists reject claim by amateur treasure hunters that a train laden with gold, jewels, weapons and stolen art is hidden in railway embankment. Le Pen acquitted of inciting hatred Maternal exposure to anti-depressant SSRIs linked to autism in children\n",
      "Predicted sentiment: Increase\n",
      "Actual movement: Increase\n",
      "---\n",
      "Headline: Putin admits Russian forces were deployed to Crimea. Jimmy Carter and Nobel Laureates Urge President Obama to reject the Keystone XL Pipeline: \"History will reflect on this moment...\" Ukraine submits proof of Russian covert action Putin Asserts Right to Use Force in Eastern Ukraine - '[He] stressed Russias historical claim to the territory, repeatedly referring to it as new Russia' Ukrainian Oligarch Offers $10k for Each Captured Russian Invader Donetsk Pro-Russians Order Jews to 'Register or be Deported' for Supporting Kiev Rule Kim Dotcom can have seized assets returned  New Zealand High Court Putin: Russia may invade Ukraine to protect locals Kiev says Russian males aged 16-60 banned from entering Ukraine 300 people attacked a Ukrainian military base in the country's southeast on Thursday Ukrainian military surrounded by pro-Russians Snowden asks Putin: \"Does Russia intercept millions of citizens data?\" Crimeans find their new lives in Russia harder than expected Russia Economy Worsens Even Before Sanctions Hit: With inflation rising, growth stagnating, the ruble and stock market plunging, and billions in capital fleeing the country for safety, the economy is teetering on the edge of recession, as the countrys minister of economic development acknowledged West Slams Russia 'Fantasy Narrative' on Ukraine: Western countries on the Security Council said the new report undermines Russia's claims about the events that led to its recent annexation of Crimea, and they warned of a similar situation unfolding now Vkontakte Founder: Russia Wanted Personal Data of Euromaidan Protesters S. Korean Ferry Captain Was One of the First Off the Sinking Ship: I cant raise my face before the passengers and family members of the missing, he said. Students kidnapped by suspected Islamic militants in Nigeria are freed $10,000 for separatist head and $1,000 for the machine-gun - the reward promised by the governor of Dnipropetrovsk region Iranian Officials and Bankers Warn Russia Not to Dismiss U.S. Sanctions Threat A labor group says a strike at the world's biggest athletic shoe maker is snowballing, with about 30,000 of its Chinese workers protesting over insufficient benefits Moldovas Breakaway Region Asks Putin to Recognize Sovereignty Obama warns of \"consequences\" for Russian actions destabilizing Ukraine Canadian arrested for Heartbleed hacking Ukrainian Parliament Recommends Resumption Of Mandatory Conscription\n",
      "Predicted sentiment: Decrease\n",
      "Actual movement: Decrease\n",
      "---\n",
      "Headline: BANGLADESH: A man dies in police custody after refusing to pay bribes; his relatives are warned not to pursue the case North Korean soldiers defect to China fuelling fears of imminent military clash Terrorists target World Cup fans in Uganda, watching final game : At least 64 killed Anger in Costa Rica over deal to 'invite' 46 US warships    Opposition leaders in Costa Rica are furious over an agreement that allows 46 US warships and 7,000 US Marines to enter the country as part of an anti-drug effort. Swiss authorities reject US extradition of Polanski Israel and the lobby are pushing us to war with Iran. Al Qaeda group bombs Ugandan World Cup parties: death toll now 65 (Photos) Ireland to block EU-Israel data transfer Facebook installs 'panic button' for children Oil companies complicit in Sudan civil war, report alleges. \"A recent report by a group of NGOs alleges that an oil consortium led by Swedish firm Lundin Petroleum may have been complicit in 'war crimes and crimes against humanity' in Sudan.\" No freedom flotilla for the people of Darfur.  Sudan government incited violence kills 221 in June Conroy and Gillard delay controversial web filtering plan.  The Australian government has succumbed to pressure and delayed the introduction of its mandatory internet filtering scheme. Former Cuban leader Fidel Castro will appear on Cuban television and radio on Monday evening to discuss his theory that the world is on the verge of nuclear war, the Communist Party newspaper Granma said in its Monday online edition. Two men who organised a controversial art exhibition showing in Moscow in 2007 have been found guilty by a Russian court of inciting hatred. BBC News - Twin blasts in Uganda capital Kampala kill at least 64 Will Brazil be able to successfully host the 2014 World Cup? Al-Jazeera reports that maybe they won't. Iran Air is now forbidden from landing most of its airplanes in Europe, due to \"safety concerns\" 26 Year Old Woman Raped and Murdered by Basij Members for 'Bad Hijab' - The intentions of the savage Basij members was to put a stop to the \"improper\" way women in society dressed Gaza farmers risk being shot by Israeli patrols: Foreigners acts as human shield to protect Palestinians Israel's military probe into the attack on the Gaza aid convoy has found Israeli forces guilty of serious errors 'Shining India' makes its poor pay price of hosting Commonwealth Games China: New government transparency rules strike chord with public Creating Order in the Euro Zone - Fearing a lasting burden on taxpayers, the German government is preparing a set of insolvency rules for countries in the euro zone. It would require private investors to bear some of the financial burden and force the affected countries to give up some sovereignty. Dubai: full body scanners at airports violate \"personal privacy\" and may have side effects on passengers. Palestinians in Hebron have their doors welded shut to protect Jewish settlers.\n",
      "Predicted sentiment: Increase\n",
      "Actual movement: Increase\n",
      "---\n",
      "Headline: \"We conclude therefore that Rupert Murdoch is not a fit person to exercise the stewardship of a major international company\" Bare Statistics of Rhinos Being Slaughtered Horrifying -  They're being killed in such unprecedented numbers that there are realistic fears they could be wiped from the face of the planet within a generation Mayors of eight British Columbia cities call on the provincial govt to legalize, tax, and regulate marijuana Documents found encoded in porn reveal al Qaeda's plans for seizing cruise ships, and cause carnage in Europe - CNN.com Report: Guns used in Mexico for lawyer's murder traced to ATF operation The Pirate Bay copyright crackdown is unsustainable Air France Flight 447: 'Damn it, were going to crash - -- Airbus went down three years ago in equatorial waters between Brazil and Africa. 228 dead. Two years to find flight recorders, another year to write report. Official verdict: Pilot error. But why didn't other crew members intervene? An engineering mom leads effort to save an old-growth Russian forest\n",
      "Yevgenia Chirikova found out a national forest was quietly being sold off. What she did to try to save it may change Russia forever Once poster child of crisis, Iceland recovers The dolphin-hunting Japanese town of Taiji, made infamous by the Oscar-winning documentary \"The Cove\", plans to open a marine mammal park where visitors can swim with the creatures Rick Falkvinge addresses the German Pirate Partys General Assembly, with 2800 people gathered in Neumnster  the largest party assembly in Germanys democratic history The Secret War in Yemen: did anyone else know that this was going on? Canadians were never told the true cost of a $114-billion \"secret bailout\" for the country's biggest banks during the financial crisis, says a report from the Canadian Centre for Policy Alternatives. Malaysia Enacts Minimum Wage Israel ex-spy chief slams Netanyahu over Iran, \"I really don't have faith in a leadership that makes decisions out of messianic feelings.\" Norwegian sociologist Johan Galtung (\"father of peace studies\") defends 'The Protocols of the Elders of Zion' and says Jewish influence was one of the factors leading to Auschwitz. BBC News - Turkey to write first fully civilian constitution Counter-coup attempt underway in Mali Europe takes hard look at nations that allowed U.S. interrogations Debris believed to be from the Japan tsunami are surfacing in Washington State, Alaska and British Columbia, and scientists say the mess will be there for generations. El Salvador holds its breath after day without murders:  Scepticism in barrios, where residents say people are still disappearing despite truce between powerful gangs Ethiopians could still go hungry despite economic gains\n",
      "With its population of 91 million expected to double in the next 22 years, and a drier climate, Ethiopia will have trouble feeding its people, a new report says. Harley Davidson with Japan license plates washes up on Canadian coast. Protesters Deploy, Police Brace for May Day Protests [Updated] \"How Boko Haram attacks have changed the Maiduguri where I grew up\" - Jimeh Saleh of BBC Hausa returns to his home town of  in  Nigeria for 1st time in almost a year to find it's a mere shell of its once lively self, following a spate of deadly attacks by the Boko Haram Islamist group.\n",
      "Predicted sentiment: Decrease\n",
      "Actual movement: Increase\n",
      "---\n"
     ]
    }
   ],
   "source": [
    "individual_predictions, individual_real_values = evaluate(model, test_data_loader, device)\n",
    "\n",
    "# Print predictions and actual labels for individual headlines\n",
    "for i in range(len(individual_predictions)):\n",
    "    print(f\"Headline: {test_sample['All_Headlines'].iloc[i]}\")\n",
    "    print(f\"Predicted sentiment: {'Increase' if individual_predictions[i] == 1 else 'Decrease'}\")\n",
    "    print(f\"Actual movement: {'Increase' if individual_real_values[i] == 1 else 'Decrease'}\")\n",
    "    print(\"---\")"
   ]
  },
  {
   "cell_type": "markdown",
   "metadata": {},
   "source": [
    "We can put in headline here our self and check the predicted result"
   ]
  },
  {
   "cell_type": "code",
   "execution_count": 28,
   "metadata": {},
   "outputs": [
    {
     "name": "stdout",
     "output_type": "stream",
     "text": [
      "Headline: Automobile Manufacturer Recalls Millions of Vehicles Over Safety Concerns.\n",
      "Predicted Movement: Increase\n",
      "Prediction Probability: 0.94\n"
     ]
    }
   ],
   "source": [
    "def predict_headline(model, tokenizer, headline, device, max_len=128):\n",
    "    model.eval()  # Put the model in evaluation mode\n",
    "\n",
    "    # Tokenizing the headline\n",
    "    encoding = tokenizer.encode_plus(\n",
    "        headline,\n",
    "        add_special_tokens=True,\n",
    "        max_length=max_len,\n",
    "        truncation=True,\n",
    "        padding='max_length',\n",
    "        return_attention_mask=True,\n",
    "        return_tensors='pt',\n",
    "    )\n",
    "\n",
    "    input_ids = encoding['input_ids'].to(device)\n",
    "    attention_mask = encoding['attention_mask'].to(device)\n",
    "\n",
    "    # Forward pass, get the logits\n",
    "    with torch.no_grad():\n",
    "        outputs = model(\n",
    "            input_ids=input_ids,\n",
    "            attention_mask=attention_mask\n",
    "        )\n",
    "\n",
    "    # Convert logits to probabilities (optional)\n",
    "    probabilities = torch.nn.functional.softmax(outputs.logits, dim=-1)\n",
    "\n",
    "    # Get the predicted index\n",
    "    predicted_index = torch.argmax(probabilities, dim=-1).item()\n",
    "    predicted_probability = probabilities[:, predicted_index].item()\n",
    "\n",
    "    return {\n",
    "        'headline': headline,\n",
    "        'prediction': 'Increase' if predicted_index == 1 else 'Decrease',\n",
    "        'probability': predicted_probability\n",
    "    }\n",
    "\n",
    "# Example of testing an individual headline\n",
    "headline = \"Automobile Manufacturer Recalls Millions of Vehicles Over Safety Concerns.\"\n",
    "result = predict_headline(model, tokenizer, headline, device)\n",
    "print(f\"Headline: {result['headline']}\")\n",
    "print(f\"Predicted Movement: {result['prediction']}\")\n",
    "print(f\"Prediction Probability: {result['probability']:.2f}\")\n",
    "\n",
    "# Major Bank Faces Regulatory Scrutiny Over Fraud Allegations. Tech Giant's Revenue Plummets Following Weak Quarterly Earnings Report. \n",
    "# Global Markets Tumble Amidst Rising Geopolitical Tensions. \n",
    "# Investor Confidence Hits New Low as Recession Fears Intensify. Cryptocurrency Exchange Files for Bankruptcy After Cyber Attack. \n",
    "# Oil Prices Crash Due to Unexpected Surge in Global Supply. Retail Giant Closes Hundreds of Stores Nationwide Amid Sales Decline. \n",
    "# Housing Market Slump Continues as Mortgage Rates Soar. Automobile Manufacturer Recalls Millions of Vehicles Over Safety Concerns. \n",
    "# Start-Up Valuations Plummet as Venture Capital Funding Dries Up.\n"
   ]
  },
  {
   "cell_type": "markdown",
   "metadata": {},
   "source": [
    "## Use confusion matrix and ROC curve to visualize result"
   ]
  },
  {
   "cell_type": "code",
   "execution_count": 29,
   "metadata": {},
   "outputs": [
    {
     "name": "stdout",
     "output_type": "stream",
     "text": [
      "Classification Report:\n",
      "               precision    recall  f1-score   support\n",
      "\n",
      "           0       0.44      0.57      0.49       171\n",
      "           1       0.58      0.45      0.51       227\n",
      "\n",
      "    accuracy                           0.50       398\n",
      "   macro avg       0.51      0.51      0.50       398\n",
      "weighted avg       0.52      0.50      0.50       398\n",
      "\n",
      "Accuracy Score: 0.5\n"
     ]
    },
    {
     "data": {
      "image/png": "[encoded data removed]",
      "text/plain": [
       "<Figure size 700x500 with 2 Axes>"
      ]
     },
     "metadata": {},
     "output_type": "display_data"
    },
    {
     "data": {
      "image/png": "[encoded data removed]",
      "text/plain": [
       "<Figure size 700x500 with 1 Axes>"
      ]
     },
     "metadata": {},
     "output_type": "display_data"
    }
   ],
   "source": [
    "import matplotlib.pyplot as plt\n",
    "import seaborn as sns\n",
    "from sklearn.metrics import confusion_matrix, accuracy_score, classification_report, roc_curve, auc\n",
    "\n",
    "def evaluate_and_visualize(model, data_loader, device):\n",
    "    model.eval()\n",
    "    predictions = []\n",
    "    real_values = []\n",
    "\n",
    "    with torch.no_grad():\n",
    "        for d in data_loader:\n",
    "            input_ids = d['input_ids'].to(device)\n",
    "            attention_mask = d['attention_mask'].to(device)\n",
    "            labels = d['labels'].to(device)\n",
    "            \n",
    "            outputs = model(\n",
    "                input_ids=input_ids,\n",
    "                attention_mask=attention_mask\n",
    "            )\n",
    "            \n",
    "            _, preds = torch.max(outputs.logits, dim=1)\n",
    "            predictions.extend(preds.cpu().numpy())\n",
    "            real_values.extend(labels.cpu().numpy())\n",
    "    \n",
    "    # Evaluation metrics\n",
    "    print(\"Classification Report:\\n\", classification_report(real_values, predictions))\n",
    "    print(\"Accuracy Score:\", accuracy_score(real_values, predictions))\n",
    "\n",
    "    # Confusion matrix\n",
    "    cf_matrix = confusion_matrix(real_values, predictions)\n",
    "    plt.figure(figsize=(7, 5))\n",
    "    sns.heatmap(cf_matrix, annot=True, fmt='g', cmap='Blues', xticklabels=['Decrease', 'Increase'], yticklabels=['Decrease', 'Increase'])\n",
    "    plt.xlabel('Predicted Labels')\n",
    "    plt.ylabel('True Labels')\n",
    "    plt.title('Confusion Matrix')\n",
    "    plt.show()\n",
    "\n",
    "    # ROC Curve\n",
    "    fpr, tpr, thresholds = roc_curve(real_values, predictions, pos_label=1)\n",
    "    roc_auc = auc(fpr, tpr)\n",
    "\n",
    "    plt.figure(figsize=(7, 5))\n",
    "    plt.plot(fpr, tpr, color='darkorange', lw=2, label=f'ROC curve (area = {roc_auc:.2f})')\n",
    "    plt.plot([0, 1], [0, 1], color='navy', lw=2, linestyle='--')\n",
    "    plt.xlim([0.0, 1.0])\n",
    "    plt.ylim([0.0, 1.05])\n",
    "    plt.xlabel('False Positive Rate')\n",
    "    plt.ylabel('True Positive Rate')\n",
    "    plt.title('Receiver Operating Characteristic (ROC) Curve')\n",
    "    plt.legend(loc=\"lower right\")\n",
    "    plt.show()\n",
    "\n",
    "# Prepare the test data loader if not already done\n",
    "# No need to define test_df, use val_df instead\n",
    "test_data_loader = create_data_loader(val_df, tokenizer, MAX_LEN, BATCH_SIZE)\n",
    "  # test_df needs to be defined\n",
    "\n",
    "# Call the evaluation and visualization function\n",
    "evaluate_and_visualize(model, test_data_loader, device)\n"
   ]
  },
  {
   "cell_type": "markdown",
   "metadata": {},
   "source": [
    "# Some remarks and Next step\n",
    "\n",
    "The performance of our model has been underwhelming, and we believe there are two primary reasons for this. Firstly, the inherent difficulty of the task cannot be overstated; we are dealing with a variety of daily headlines and the unpredictable nature of stock prices. Notably, our confusion matrix revealed that the model frequently misclassifies instances of stock price increases as decreases. This issue may stem from the general upward trend in stock indices during the training period, suggesting that the model lacks awareness of this long-term growth pattern. We need to explore strategies to incorporate this trend into the model's understanding.\n",
    "\n",
    "Secondly, the architecture of the model itself might be contributing to the poor results. We are currently using GPT-2, which is primarily a decoder-based model, whereas the nature of our task aligns more closely with the functionalities of an encoder. In light of this, we plan to retrain our system using an encoder-based model like BERT to potentially improve its performance.\n",
    "\n",
    "Should this adjustment prove effective, our next steps would include implementing inference optimization techniques we've studied in class. Additionally, we will conduct benchmarks across several models to determine the most effective one."
   ]
  }
 ],
 "metadata": {
  "kernelspec": {
   "display_name": "Python 3",
   "language": "python",
   "name": "python3"
  },
  "language_info": {
   "codemirror_mode": {
    "name": "ipython",
    "version": 3
   },
   "file_extension": ".py",
   "mimetype": "text/x-python",
   "name": "python",
   "nbconvert_exporter": "python",
   "pygments_lexer": "ipython3",
   "version": "3.12.2"
  }
 },
 "nbformat": 4,
 "nbformat_minor": 2
}
