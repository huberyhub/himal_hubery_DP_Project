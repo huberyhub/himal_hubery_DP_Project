{
 "cells": [
  {
   "cell_type": "code",
   "execution_count": 29,
   "metadata": {},
   "outputs": [
    {
     "name": "stderr",
     "output_type": "stream",
     "text": [
      "Some weights of GPT2ForSequenceClassification were not initialized from the model checkpoint at gpt2 and are newly initialized: ['score.weight']\n",
      "You should probably TRAIN this model on a down-stream task to be able to use it for predictions and inference.\n",
      "/Library/Frameworks/Python.framework/Versions/3.12/lib/python3.12/site-packages/transformers/optimization.py:429: FutureWarning: This implementation of AdamW is deprecated and will be removed in a future version. Use the PyTorch implementation torch.optim.AdamW instead, or set `no_deprecation_warning=True` to disable this warning\n",
      "  warnings.warn(\n"
     ]
    },
    {
     "name": "stdout",
     "output_type": "stream",
     "text": [
      "Epoch 1/10\n",
      "----------\n"
     ]
    },
    {
     "name": "stderr",
     "output_type": "stream",
     "text": [
      "Training: 100%|██████████| 100/100 [03:41<00:00,  2.21s/it]\n"
     ]
    },
    {
     "name": "stdout",
     "output_type": "stream",
     "text": [
      "Train loss 1.5428572657704354 accuracy 0.5047140163419234\n"
     ]
    },
    {
     "name": "stderr",
     "output_type": "stream",
     "text": [
      "Evaluating: 100%|██████████| 25/25 [00:16<00:00,  1.56it/s]\n"
     ]
    },
    {
     "name": "stdout",
     "output_type": "stream",
     "text": [
      "Val loss 0.7767880678176879 accuracy 0.49748743718592964\n",
      "Epoch 2/10\n",
      "----------\n"
     ]
    },
    {
     "name": "stderr",
     "output_type": "stream",
     "text": [
      "Training: 100%|██████████| 100/100 [03:35<00:00,  2.16s/it]\n"
     ]
    },
    {
     "name": "stdout",
     "output_type": "stream",
     "text": [
      "Train loss 0.7394733986258507 accuracy 0.5285983658076682\n"
     ]
    },
    {
     "name": "stderr",
     "output_type": "stream",
     "text": [
      "Evaluating: 100%|██████████| 25/25 [00:15<00:00,  1.62it/s]\n"
     ]
    },
    {
     "name": "stdout",
     "output_type": "stream",
     "text": [
      "Val loss 0.7452288174629211 accuracy 0.5175879396984925\n",
      "Epoch 3/10\n",
      "----------\n"
     ]
    },
    {
     "name": "stderr",
     "output_type": "stream",
     "text": [
      "Training: 100%|██████████| 100/100 [03:37<00:00,  2.17s/it]\n"
     ]
    },
    {
     "name": "stdout",
     "output_type": "stream",
     "text": [
      "Train loss 0.7026491641998291 accuracy 0.5424261470773099\n"
     ]
    },
    {
     "name": "stderr",
     "output_type": "stream",
     "text": [
      "Evaluating: 100%|██████████| 25/25 [00:15<00:00,  1.60it/s]\n"
     ]
    },
    {
     "name": "stdout",
     "output_type": "stream",
     "text": [
      "Val loss 0.782865309715271 accuracy 0.4623115577889447\n",
      "Epoch 4/10\n",
      "----------\n"
     ]
    },
    {
     "name": "stderr",
     "output_type": "stream",
     "text": [
      "Training: 100%|██████████| 100/100 [03:34<00:00,  2.15s/it]\n"
     ]
    },
    {
     "name": "stdout",
     "output_type": "stream",
     "text": [
      "Train loss 0.6681033796072007 accuracy 0.6033940917661847\n"
     ]
    },
    {
     "name": "stderr",
     "output_type": "stream",
     "text": [
      "Evaluating: 100%|██████████| 25/25 [00:15<00:00,  1.61it/s]\n"
     ]
    },
    {
     "name": "stdout",
     "output_type": "stream",
     "text": [
      "Val loss 0.7924038624763489 accuracy 0.4623115577889447\n",
      "Epoch 5/10\n",
      "----------\n"
     ]
    },
    {
     "name": "stderr",
     "output_type": "stream",
     "text": [
      "Training: 100%|██████████| 100/100 [03:34<00:00,  2.15s/it]\n"
     ]
    },
    {
     "name": "stdout",
     "output_type": "stream",
     "text": [
      "Train loss 0.6450721737742424 accuracy 0.6134506599622879\n"
     ]
    },
    {
     "name": "stderr",
     "output_type": "stream",
     "text": [
      "Evaluating: 100%|██████████| 25/25 [00:15<00:00,  1.58it/s]\n"
     ]
    },
    {
     "name": "stdout",
     "output_type": "stream",
     "text": [
      "Val loss 0.834170663356781 accuracy 0.4648241206030151\n",
      "Epoch 6/10\n",
      "----------\n"
     ]
    },
    {
     "name": "stderr",
     "output_type": "stream",
     "text": [
      "Training: 100%|██████████| 100/100 [03:36<00:00,  2.17s/it]\n"
     ]
    },
    {
     "name": "stdout",
     "output_type": "stream",
     "text": [
      "Train loss 0.6084088540077209 accuracy 0.6693903205531112\n"
     ]
    },
    {
     "name": "stderr",
     "output_type": "stream",
     "text": [
      "Evaluating: 100%|██████████| 25/25 [00:16<00:00,  1.52it/s]"
     ]
    },
    {
     "name": "stdout",
     "output_type": "stream",
     "text": [
      "Val loss 0.8662115001678466 accuracy 0.46733668341708545\n",
      "Early stopping, reloading checkpoint model\n"
     ]
    },
    {
     "name": "stderr",
     "output_type": "stream",
     "text": [
      "\n"
     ]
    }
   ],
   "source": [
    "import numpy as np\n",
    "from sklearn.preprocessing import StandardScaler\n",
    "from sklearn.feature_extraction.text import CountVectorizer\n",
    "from sklearn.preprocessing import LabelEncoder\n",
    "from sklearn.preprocessing import MaxAbsScaler\n",
    "import pandas as pd\n",
    "import torch\n",
    "from torch.utils.data import Dataset, DataLoader\n",
    "from transformers import GPT2Tokenizer, GPT2ForSequenceClassification, GPT2Config, AdamW\n",
    "from sklearn.model_selection import train_test_split\n",
    "from tqdm.auto import tqdm\n",
    "\n",
    "# Load and preprocess the dataset\n",
    "data = pd.read_csv('Datasets/Combined_News_DJIA.csv')\n",
    "\n",
    "# Concatenate all the news headlines into a single string for each record\n",
    "# Optimized by directly using pandas functionality\n",
    "data['All_Headlines'] = data.iloc[:, 2:].fillna('').apply(lambda x: ' '.join(x), axis=1)\n",
    "train_df, val_df = train_test_split(data, test_size=0.2, random_state=42)\n",
    "\n",
    "# Define a custom Dataset class for tokenization and batching\n",
    "class NewsDataset(Dataset):\n",
    "    def __init__(self, headlines, labels, tokenizer, max_len):\n",
    "        self.headlines = headlines\n",
    "        self.labels = labels\n",
    "        self.tokenizer = tokenizer\n",
    "        self.max_len = max_len\n",
    "        \n",
    "    def __len__(self):\n",
    "        return len(self.headlines)\n",
    "    \n",
    "    def __getitem__(self, item):\n",
    "        headline = str(self.headlines[item])\n",
    "        label = self.labels[item]\n",
    "        \n",
    "        encoding = self.tokenizer.encode_plus(\n",
    "            headline,\n",
    "            add_special_tokens=True,\n",
    "            max_length=self.max_len,\n",
    "            truncation=True,\n",
    "            padding='max_length',\n",
    "            return_attention_mask=True,\n",
    "            return_tensors='pt',\n",
    "        )\n",
    "        \n",
    "        return {\n",
    "            'headline_text': headline,\n",
    "            'input_ids': encoding['input_ids'].flatten(),\n",
    "            'attention_mask': encoding['attention_mask'].flatten(),\n",
    "            'labels': torch.tensor(label, dtype=torch.long)\n",
    "        }\n",
    "\n",
    "# Create data loaders for batch processing\n",
    "def create_data_loader(df, tokenizer, max_len, batch_size):\n",
    "    ds = NewsDataset(\n",
    "        headlines=df['All_Headlines'].to_numpy(),\n",
    "        labels=df['Label'].to_numpy(),\n",
    "        tokenizer=tokenizer,\n",
    "        max_len=max_len\n",
    "    )\n",
    "    \n",
    "    return DataLoader(ds, batch_size=batch_size, num_workers=0)\n",
    "\n",
    "tokenizer = GPT2Tokenizer.from_pretrained('gpt2')\n",
    "tokenizer.pad_token = tokenizer.eos_token  # Use EOS token as pad token\n",
    "\n",
    "MAX_LEN = 128\n",
    "BATCH_SIZE = 16\n",
    "\n",
    "model = GPT2ForSequenceClassification.from_pretrained('gpt2', num_labels=2)\n",
    "model.config.pad_token_id = model.config.eos_token_id  # Configuring pad token\n",
    "device = torch.device(\"cuda\" if torch.cuda.is_available() else \"cpu\")\n",
    "\n",
    "model.to(device)\n",
    "\n",
    "optimizer = AdamW(model.parameters(), lr=2e-5)\n",
    "\n",
    "train_data_loader = create_data_loader(train_df, tokenizer, MAX_LEN, BATCH_SIZE)\n",
    "val_data_loader = create_data_loader(val_df, tokenizer, MAX_LEN, BATCH_SIZE)\n",
    "\n",
    "# Training function with model evaluation on validation data\n",
    "def train_epoch(model, data_loader, optimizer, device, n_examples):\n",
    "    model.train()\n",
    "    losses = []\n",
    "    correct_predictions = 0\n",
    "    \n",
    "    for d in tqdm(data_loader, desc=\"Training\"):\n",
    "        input_ids = d['input_ids'].to(device)\n",
    "        attention_mask = d['attention_mask'].to(device)\n",
    "        labels = d['labels'].to(device)\n",
    "        \n",
    "        outputs = model(\n",
    "            input_ids=input_ids,\n",
    "            attention_mask=attention_mask,\n",
    "            labels=labels\n",
    "        )\n",
    "        \n",
    "        loss = outputs.loss\n",
    "        logits = outputs.logits\n",
    "        _, preds = torch.max(logits, dim=1)\n",
    "        correct_predictions += torch.sum(preds == labels)\n",
    "        losses.append(loss.item())\n",
    "        \n",
    "        loss.backward()\n",
    "        optimizer.step()\n",
    "        optimizer.zero_grad()\n",
    "    \n",
    "    return correct_predictions.double() / n_examples, np.mean(losses)\n",
    "\n",
    "# Function to evaluate the model on validation data\n",
    "def eval_model(model, data_loader, device, n_examples):\n",
    "    model.eval()\n",
    "    losses = []\n",
    "    correct_predictions = 0\n",
    "    \n",
    "    with torch.no_grad():\n",
    "        for d in tqdm(data_loader, desc=\"Evaluating\"):\n",
    "            input_ids = d['input_ids'].to(device)\n",
    "            attention_mask = d['attention_mask'].to(device)\n",
    "            labels = d['labels'].to(device)\n",
    "            \n",
    "            outputs = model(\n",
    "                input_ids=input_ids,\n",
    "                attention_mask=attention_mask,\n",
    "                labels=labels\n",
    "            )\n",
    "            \n",
    "            loss = outputs.loss\n",
    "            logits = outputs.logits\n",
    "            _, preds = torch.max(logits, dim=1)\n",
    "            correct_predictions += torch.sum(preds == labels)\n",
    "            losses.append(loss.item())\n",
    "\n",
    "    return correct_predictions.double() / n_examples, np.mean(losses)\n",
    "\n",
    "# Training loop with early stopping\n",
    "EPOCHS = 10\n",
    "best_val_accuracy = 0\n",
    "early_stopping_counter = 0\n",
    "early_stopping_limit = 3\n",
    "\n",
    "for epoch in range(EPOCHS):\n",
    "    print(f'Epoch {epoch + 1}/{EPOCHS}')\n",
    "    print('-' * 10)\n",
    "\n",
    "    train_acc, train_loss = train_epoch(\n",
    "        model,\n",
    "        train_data_loader,\n",
    "        optimizer,\n",
    "        device,\n",
    "        len(train_df)\n",
    "    )\n",
    "    print(f'Train loss {train_loss} accuracy {train_acc}')\n",
    "\n",
    "    val_acc, val_loss = eval_model(\n",
    "        model,\n",
    "        val_data_loader,\n",
    "        device,\n",
    "        len(val_df)\n",
    "    )\n",
    "    print(f'Val loss {val_loss} accuracy {val_acc}')\n",
    "\n",
    "    if val_acc > best_val_accuracy:\n",
    "        torch.save(model.state_dict(), 'best_model_state.bin')\n",
    "        best_val_accuracy = val_acc\n",
    "        early_stopping_counter = 0\n",
    "    else:\n",
    "        early_stopping_counter += 1\n",
    "\n",
    "    if early_stopping_counter > early_stopping_limit:\n",
    "        print(\"Early stopping, reloading checkpoint model\")\n",
    "        model.load_state_dict(torch.load('best_model_state.bin'))\n",
    "        break\n",
    "\n",
    "# Evaluation function and accuracy calculation\n",
    "def evaluate(model, data_loader, device):\n",
    "    model.eval()\n",
    "    predictions = []\n",
    "    real_values = []\n",
    "\n",
    "    with torch.no_grad():\n",
    "        for d in data_loader:\n",
    "            input_ids = d[\"input_ids\"].to(device)\n",
    "            attention_mask = d[\"attention_mask\"].to(device)\n",
    "            \n",
    "            outputs = model(\n",
    "                input_ids=input_ids,\n",
    "                attention_mask=attention_mask\n",
    "            )\n",
    "            \n",
    "            _, preds = torch.max(outputs.logits, dim=1)\n",
    "            predictions.extend(preds)\n",
    "            real_values.extend(d[\"labels\"])\n",
    "    \n",
    "    predictions = torch.stack(predictions).cpu()\n",
    "    real_values = torch.stack(real_values).cpu()\n",
    "    return predictions, real_values"
   ]
  },
  {
   "cell_type": "code",
   "execution_count": 30,
   "metadata": {},
   "outputs": [
    {
     "name": "stdout",
     "output_type": "stream",
     "text": [
      "              precision    recall  f1-score   support\n",
      "\n",
      "           0       0.45      0.61      0.52       171\n",
      "           1       0.60      0.45      0.52       227\n",
      "\n",
      "    accuracy                           0.52       398\n",
      "   macro avg       0.53      0.53      0.52       398\n",
      "weighted avg       0.54      0.52      0.52       398\n",
      "\n",
      "Test Accuracy: 0.5175879396984925\n"
     ]
    }
   ],
   "source": [
    "from sklearn.metrics import accuracy_score, classification_report\n",
    "\n",
    "# Load the best saved model (if early stopping occurred)\n",
    "model.load_state_dict(torch.load('best_model_state.bin'))\n",
    "\n",
    "# Test the best model to get the final classification report and accuracy\n",
    "test_predictions, test_real_values = evaluate(model, val_data_loader, device)\n",
    "print(classification_report(test_real_values, test_predictions))\n",
    "print(\"Test Accuracy:\", accuracy_score(test_real_values, test_predictions))"
   ]
  },
  {
   "cell_type": "code",
   "execution_count": 32,
   "metadata": {},
   "outputs": [
    {
     "name": "stdout",
     "output_type": "stream",
     "text": [
      "Headline: Scientists claim to have broken the absolute speed barrier - particles travelling faster than the speed of light. The \"first\" Syrian woman (18 years old) to be killed in custody - decapitated, arms cut off, and skin removed - all to put pressure on her activist brother to turn himself in. Bill Clinton: Netanyahu to blame for failure of peace process In a suburb of Vancouver, anti-war activists are protesting that George W. Bush not be allowed in the city for an upcoming summit, calling him a mass murderer. Muslim nations demand Israel open its nuke program to IAEA viewing Wikileaks cables: Chevron tried to shake off multibillion environmental claims in Ecuador by lobbying government officials, even as it blasted opponents for allegedly playing to the courts' corrupt and political side A man who burned to death in his home died as a result of spontaneous combustion, an Irish coroner has ruled. It is believed to be the first case of its kind in Ireland. Polio outbreaks in China have been confirmed Russia wants UN to ban anti-government propaganda on Internet Palestinians to make statehood bid at UN World now has 'more people dying from obesity than malnutrition' President Abbas receives ovation at UN Palestinian statehood goes to UN in key moment for peace process Thousands riot in south China over gov's land grab: \"sticks, bricks and fists\" British lawyer leading fight against News International crosses Atlantic to initiate proceedings targetting Rupert Murdoch and his son James. Best and worst countries to be a woman. Ahmadinejads anti-U.S. speech prompts walk-out at UN assembly Police with the worst records of targeting black people have decided to stop recording the ethnicity of the people stopped Palestinian Statehood: Abbas Submits Formal Proposal To The UN Thousands of jubilant Palestinians cheer their president submit his historic request for recognition of a state of Palestine to the UN Germany Has 5 Trillion Euros of Hidden Debt, Handelsblatt Says India's Bias for Boys Leads to Illegal Gender Selection Abortions China police detain man over 'sex slaves' in basement Abbas Submits Palestine Statehood Bid to UN IAEA won't discuss Israel's 'nuclear capabilities' after Arab proposal dropped:  Behind-the-scenes diplomacy at the International Atomic Energy Association leads to Arab states withdrawing their motion.\n",
      "Predicted sentiment: Decrease\n",
      "Actual movement: Increase\n",
      "---\n",
      "Headline: Bangkok Underwater [Pics] Wife-sharing haunts Indian villages as girls decline\n",
      "\n",
      " Israel rejects Palestinian lawsuit over IDF missile that struck family home N. Korea nationals who witnessed Arab Spring forbidden to return home.  South Sudan will change the language of schooling to English The European Union has reached a \"three-pronged\" agreement it says is vital to resolving the Greek debt crisis.  As part of the deal, banks have agreed to take a 50% loss on Greek debt. Police chiefs 'authorised undercover police officers to give false evidence in court'. Russia: Putin advances Eurasian Union - As the West stumbles, Putin aggressively forges ahead with a new Soviet-style union. Irish See Opportunity in Greeces Debt Hole - Why is it acceptable to write down Greek debt, when the Irish pay private bankers debts?  French government 'banning vegetarianism' in school canteens Hugo Chvez announces 50% pay raise for the military - Chvez said that the salary increase for military officers would be \"retroactive to September.\" \"They deserve it for the hard work done,\" in our country. Sub-Saharan Africa is being sold misguided agricultural policies based on flawed Chinese farming tactics. Pope expresses 'great shame' for violence in God's name  Eurozone crisis: banks agree 50% reduction on Greece's debt Uncharted submarine wreck found off PNG Brazil rejects Europe debt purchase plan Syrian army defectors are growing and becoming more organized St. Paul's Chancellor Quits Over Plans to Remove Protesters If the Libyan war was about saving lives, it was a catastrophic failure More than 2,000 people marched Thursday through Johannesburg to demand jobs and a greater share of South Africa's riches Another Container Ship Hits Rocks in New Zealand - \"They're saying the damage to the ship has been superficial but they're getting that seen to right now.\" Hundreds of migrants protest tax dispute in east China, blocking roads, torching vehicles The Breivik Interrogations: Norway Massacre Suspect Reveals All But Motive Hamas boosting anti-aircraft arsenal with looted Libyan missiles\n",
      " North Korea bans citizens working in Libya from returning home\n",
      "Predicted sentiment: Increase\n",
      "Actual movement: Increase\n",
      "---\n",
      "Headline: A German man who alleges he was subjected to \"extraordinary rendition\" by the CIA has taken his case to the European Court of Human Rights. Francois Hollande, the new French President --&gt; My enemy is the world of finance.  15-year-old schoolgirl died after 'doctor mistook tuberculosis for lovesickness'  - Telegraph Indonesia cancels Lady Gaga concert because \"She's a vulgar singer... she is the envoy of the devil's child and she will spread satanic teaching\" US shadow war in Horn of Africa revealed by blogger G20 report details mass violation of rights by police, says \"excessive force\" was used in Toronto\n",
      " Searching for the remains of a teenage girl missing for 3 decades, Italian police opened the Vatican-owned tomb of mobster Enrico De Pedis, but the boxes of bones they found interred with his corpse only deepen the mystery A bank run is developing in Greece - $893 million withdrawn from Greek banks since May 6th election Chinese official: it's us or America. AUSTRALIA cannot juggle its relationships with the United States and China indefinitely and must choose a ''godfather'' to protect it, according to a prominent Chinese defence strategist. Pirate Bay Under DDoS Attack From Unknown Enemy Greeks withdraw $894 million in a day: Is this beginning of a run on banks? European helicopter gunships attacked a pirate base on the Somali coast on Tuesday, destroying five speedboats, in the first such airborne strike on land by the anti-piracy force. Majority of Mexicans Want More U.S. Help in Drug War, 28% Want the US Military to Intervene on Mexican Soil Supreme Court mulls manga child porn appeal - The highly publicized last appeal of Simon Lundstrm, a Swedish translator of Japanese manga comics convicted of child pornography crimes, was brought up in Swedens Supreme Court (Hgsta Domstolen) on Wednesday. Leading Italian university switches to teaching in the English language Iran hangs 'Israel spy' over nuclear scientist killing Vatican official: Leaders of the scandal-plagued Legionaries of Christ religious order knew that their most famous priest had fathered a child for many months before they acknowledged it this week Exclusive: China pushes North Korea to drop nuclear test plan: sources Burma Vows to Cease Buying Weapons from North Korea Greeks pull funds from banks; emergency cabinet to be named\n",
      " Bosnian Commander Mladic Led Ethnic Cleansing, War Crimes Trial Told - He faces 11 counts of war crimes &amp; crimes against humanity, including genocide, in connection with the brutal 1992-95 Bosnian war.  He's called the accusations \"monstrous\" &amp;  entered a not guilty plea. Greece On Brink Of Collapse: \"Europe's financial crisis lurched into a perilous new phase as dire predictions emerged of a collapse in Greece's economy, with a run on its banks bringing an inevitable end to its membership of the euro.\" Israel's Interior Minister: All African migrants should be jailed.  Victoria Grant, 12, Hits Lecture Circuit To Explain How Canadian Banking Is A Fraud Thousands flee as Congo battles renegade general\n",
      "\n",
      "| Reuters\n",
      "Predicted sentiment: Increase\n",
      "Actual movement: Decrease\n",
      "---\n",
      "Headline: Ukraine president ends ceasefire - 'We will attack' ISIS Vows To Destroy Meccas Kaaba, Kill Those Who Worship Stones Guaranteed $20K income for all Canadians endorsed by academics... Japan authorized a reinterpretation of war-renouncing Article 9 of the Constitution, allowing Japan for the first time since World War II to come to the aid of an ally under attack. Bodies of Three Missing Israeli Teens Found Near Hebron, Source Says Remaining Snowden docs will be released to avert 'unspecified US war'  Cryptome MIT and CERNs secure webmail plan, Proton Mail, stumped by PayPal freeze without warning. Money-shuffler shutters cash flow after asking if crypto is legal The United Nations has voted to legislate against human rights abuses carried out by transnational corporations, but the resolution, proposed by Ecuador and South Africa, was opposed by the US and the member states of the EU The European Court of Human Rights has upheld a ban by France on wearing the Muslim full-face veil - the niqab Supreme Court lets victims' 9/11 suit vs. Saudi Arabia proceed Indian Prime Minister proposes that India launch a satellite for the benefit of neighboring South Asian countries as a gift from India EU slashes mobile data roaming fees by 55 percent: The European Union says the surcharges for surfing the Internet on mobile devices while traveling across the 28-nation bloc will be more than halved Liberia To Prosecute People Hiding Ebola Patients Russian Tsar's WWI-era 'Shark' submarine discovered beneath the Baltic Sea Chilean Court Rules U.S. Had Role in Murders [in 1973] Iraq Kurdistan independence referendum planned MH370: New evidence of tampering with cockpit systems revealed. Probe shows mysterious power outage during the early stages of its flight Tens of thousands of Hong Kong residents marched Tuesday through the streets of the former British colony to push for greater democracy in a rally fueled by anger over Beijing's recent warning that it holds the ultimate authority over the southern Chinese financial center. Former French President Nicolas Sarkozy is being held for questioning over suspected influence-peddling Massive dams in Borneo to flood over 2,000 square kilometers of rainforest, displace 10,000s of indigenous people - all to generate electricity that no one wants. Unknown persons erect KKK flag in east Belfast, residents unite to have it removed. Snowden applies to extend asylum in Russia, report says Barrier Reef Dredge Spoil Could Travel Further than Previously Thought, Affecting Coral - Bid to create 1 of world's biggest coal terminals criticised by Unesco's world heritage committee. 3 million cubic metres of spoil to be dumped 20km from reef as part of the expansion of Abbot Point port. Ex-French President Sarkozy Detained Kuwait finance firm suggests trading oil in bitcoins\n",
      "Predicted sentiment: Decrease\n",
      "Actual movement: Increase\n",
      "---\n",
      "Headline: Turing Pharmaceuticals, the drug company that jacked up the price of AIDS and cancer drug 5,000%, is now facing an antitrust probe. New Edward Snowden? Whistleblower leaks documents on drones and Obama's assassination program Sweden opens world's first male rape centre - A hospital in Stockholm is understood to be first in the world to set up an emergency department specifically for male rape victims. The clinic at Sdersjukhuset opened on Thursday as part of a strategy to ensure \"gender equal\" patient care. The Philippines Is Still Pissed Off That Canada Is Using It as a Giant Garbage Bin - The island nation is demanding Canada take back its shipping containers full of rotting food &amp; adult diapers. Trans-Pacific Partnership text won't be available before election \"Dead\" 13 year old terrorist is alive and being treated in Israeli hospital contrary to claims by Abbas that he was executed by Israel (pictures/article). Toyota to Phase Out Gas-Powered Vehicles, Doubling Down on Hydrogen US President Barack Obama has announced that US armed forces have been deployed to Cameroon to help fight against the Islamist militants Boko Haram. Obama to delay withdrawal of US troops from Afghanistan - Officials say Obama to outline plans to keep 5,500 troops in Afghanistan in 2017, having previously promised to end war on his watch Queensland makes coding and robotics compulsory in schools Iran Nuclear Deal has been approved Canada is preparing to embark on a far-reaching program of financial surveillance of senior public officeholders, from Prime Minister Stephen Harper, Governor-General David Johnston and Supreme Court Chief Justice Beverley McLachlin down to thousands of elected politicians and senior bureaucrats. The United States' Deceptive Anti-Abortion 'Pregnancy Centers' Are Going Global Eritrean football players have refused to return home after playing a World Cup qualifying match in Botswana and are now seeking asylum UK denies Julian Assange medical attention UN: Brazil's Police Kill Kids to \"Clean Streets\" for Olympics '13-year-old was executed,' Abbas claims falsely - PA chairman's speech decries 'execution' of teen terrorist who is being treated in Israeli hospital Ebola lingers in semen for nine months Cuban Troops Join the Russian Offensive in Syria 2 Indian Engineers Sued Apple For Copying Their Patent Technology &amp; Won. Israeli police arrest four Jewish settlers following clashes with Palestinians Experts astonished by British nurse's deterioration to Ebola - Pauline Cafferkey's rapid decline after being 'cured' leaves experts staggered &amp; expressing astonishment at the deterioration of her condition France says Iran missile test 'worrying' violation of UN resolution Former Moldova PM Filat arrested over $1 billion bank fraud Nordic police break up refugee smuggling ring - Swedish and Finnish police have together smashed a network believed to be responsible for smuggling more than a hundred refugees, mainly Iraqi nationals, across the border.\n",
      "Predicted sentiment: Decrease\n",
      "Actual movement: Increase\n",
      "---\n"
     ]
    }
   ],
   "source": [
    "# Function to evaluate the model on test data\n",
    "def evaluate(model, data_loader, device):\n",
    "    model.eval()\n",
    "    \n",
    "    predictions = []\n",
    "    real_values = []\n",
    "    \n",
    "    with torch.no_grad():\n",
    "        for d in data_loader:\n",
    "            input_ids = d[\"input_ids\"].to(device)\n",
    "            attention_mask = d[\"attention_mask\"].to(device)\n",
    "            labels = d[\"labels\"].to(device)\n",
    "            \n",
    "            outputs = model(\n",
    "                input_ids=input_ids,\n",
    "                attention_mask=attention_mask\n",
    "            )\n",
    "            \n",
    "            _, preds = torch.max(outputs.logits, dim=1)\n",
    "            \n",
    "            predictions.extend(preds)\n",
    "            real_values.extend(labels)\n",
    "    \n",
    "    predictions = torch.stack(predictions).cpu()\n",
    "    real_values = torch.stack(real_values).cpu()\n",
    "    return predictions, real_values\n",
    "\n",
    "# Testing the model with a small sample from the validation set\n",
    "test_sample = val_df.sample(n=5).reset_index(drop=True)\n",
    "test_data_loader = create_data_loader(test_sample, tokenizer, MAX_LEN, 1)  # Single batch size for individual assessment\n",
    "\n",
    "predictions, real_values = evaluate(model, test_data_loader, device)\n",
    "\n",
    "# Print predictions and actual labels\n",
    "for i in range(len(predictions)):\n",
    "    print(f\"Headline: {test_sample['All_Headlines'].iloc[i]}\")\n",
    "    print(f\"Predicted sentiment: {'Increase' if predictions[i] == 1 else 'Decrease'}\")\n",
    "    print(f\"Actual movement: {'Increase' if real_values[i] == 1 else 'Decrease'}\")\n",
    "    print(\"---\")\n"
   ]
  },
  {
   "cell_type": "code",
   "execution_count": 33,
   "metadata": {},
   "outputs": [
    {
     "name": "stdout",
     "output_type": "stream",
     "text": [
      "Headline: Automobile Manufacturer Recalls Millions of Vehicles Over Safety Concerns.\n",
      "Predicted Movement: Decrease\n",
      "Prediction Probability: 0.80\n"
     ]
    }
   ],
   "source": [
    "def predict_headline(model, tokenizer, headline, device, max_len=128):\n",
    "    model.eval()  # Put the model in evaluation mode\n",
    "\n",
    "    # Tokenizing the headline\n",
    "    encoding = tokenizer.encode_plus(\n",
    "        headline,\n",
    "        add_special_tokens=True,\n",
    "        max_length=max_len,\n",
    "        truncation=True,\n",
    "        padding='max_length',\n",
    "        return_attention_mask=True,\n",
    "        return_tensors='pt',\n",
    "    )\n",
    "\n",
    "    input_ids = encoding['input_ids'].to(device)\n",
    "    attention_mask = encoding['attention_mask'].to(device)\n",
    "\n",
    "    # Forward pass, get the logits\n",
    "    with torch.no_grad():\n",
    "        outputs = model(\n",
    "            input_ids=input_ids,\n",
    "            attention_mask=attention_mask\n",
    "        )\n",
    "\n",
    "    # Convert logits to probabilities (optional)\n",
    "    probabilities = torch.nn.functional.softmax(outputs.logits, dim=-1)\n",
    "\n",
    "    # Get the predicted index\n",
    "    predicted_index = torch.argmax(probabilities, dim=-1).item()\n",
    "    predicted_probability = probabilities[:, predicted_index].item()\n",
    "\n",
    "    return {\n",
    "        'headline': headline,\n",
    "        'prediction': 'Increase' if predicted_index == 1 else 'Decrease',\n",
    "        'probability': predicted_probability\n",
    "    }\n",
    "\n",
    "# Example of testing an individual headline\n",
    "headline = \"Automobile Manufacturer Recalls Millions of Vehicles Over Safety Concerns.\"\n",
    "result = predict_headline(model, tokenizer, headline, device)\n",
    "print(f\"Headline: {result['headline']}\")\n",
    "print(f\"Predicted Movement: {result['prediction']}\")\n",
    "print(f\"Prediction Probability: {result['probability']:.2f}\")\n",
    "\n",
    "# Major Bank Faces Regulatory Scrutiny Over Fraud Allegations. Tech Giant's Revenue Plummets Following Weak Quarterly Earnings Report. \n",
    "# Global Markets Tumble Amidst Rising Geopolitical Tensions. \n",
    "# Investor Confidence Hits New Low as Recession Fears Intensify. Cryptocurrency Exchange Files for Bankruptcy After Cyber Attack. \n",
    "# Oil Prices Crash Due to Unexpected Surge in Global Supply. Retail Giant Closes Hundreds of Stores Nationwide Amid Sales Decline. \n",
    "# Housing Market Slump Continues as Mortgage Rates Soar. Automobile Manufacturer Recalls Millions of Vehicles Over Safety Concerns. \n",
    "# Start-Up Valuations Plummet as Venture Capital Funding Dries Up.\n"
   ]
  },
  {
   "cell_type": "code",
   "execution_count": 34,
   "metadata": {},
   "outputs": [
    {
     "name": "stdout",
     "output_type": "stream",
     "text": [
      "Classification Report:\n",
      "               precision    recall  f1-score   support\n",
      "\n",
      "           0       0.45      0.61      0.52       171\n",
      "           1       0.60      0.45      0.52       227\n",
      "\n",
      "    accuracy                           0.52       398\n",
      "   macro avg       0.53      0.53      0.52       398\n",
      "weighted avg       0.54      0.52      0.52       398\n",
      "\n",
      "Accuracy Score: 0.5175879396984925\n"
     ]
    },
    {
     "data": {
      "image/png": "[encoded data removed]",
      "text/plain": [
       "<Figure size 700x500 with 2 Axes>"
      ]
     },
     "metadata": {},
     "output_type": "display_data"
    },
    {
     "data": {
      "image/png": "[encoded data removed]",
      "text/plain": [
       "<Figure size 700x500 with 1 Axes>"
      ]
     },
     "metadata": {},
     "output_type": "display_data"
    }
   ],
   "source": [
    "import matplotlib.pyplot as plt\n",
    "import seaborn as sns\n",
    "from sklearn.metrics import confusion_matrix, accuracy_score, classification_report, roc_curve, auc\n",
    "\n",
    "def evaluate_and_visualize(model, data_loader, device):\n",
    "    model.eval()\n",
    "    predictions = []\n",
    "    real_values = []\n",
    "\n",
    "    with torch.no_grad():\n",
    "        for d in data_loader:\n",
    "            input_ids = d['input_ids'].to(device)\n",
    "            attention_mask = d['attention_mask'].to(device)\n",
    "            labels = d['labels'].to(device)\n",
    "            \n",
    "            outputs = model(\n",
    "                input_ids=input_ids,\n",
    "                attention_mask=attention_mask\n",
    "            )\n",
    "            \n",
    "            _, preds = torch.max(outputs.logits, dim=1)\n",
    "            predictions.extend(preds.cpu().numpy())\n",
    "            real_values.extend(labels.cpu().numpy())\n",
    "    \n",
    "    # Evaluation metrics\n",
    "    print(\"Classification Report:\\n\", classification_report(real_values, predictions))\n",
    "    print(\"Accuracy Score:\", accuracy_score(real_values, predictions))\n",
    "\n",
    "    # Confusion matrix\n",
    "    cf_matrix = confusion_matrix(real_values, predictions)\n",
    "    plt.figure(figsize=(7, 5))\n",
    "    sns.heatmap(cf_matrix, annot=True, fmt='g', cmap='Blues', xticklabels=['Decrease', 'Increase'], yticklabels=['Decrease', 'Increase'])\n",
    "    plt.xlabel('Predicted Labels')\n",
    "    plt.ylabel('True Labels')\n",
    "    plt.title('Confusion Matrix')\n",
    "    plt.show()\n",
    "\n",
    "    # ROC Curve\n",
    "    fpr, tpr, thresholds = roc_curve(real_values, predictions, pos_label=1)\n",
    "    roc_auc = auc(fpr, tpr)\n",
    "\n",
    "    plt.figure(figsize=(7, 5))\n",
    "    plt.plot(fpr, tpr, color='darkorange', lw=2, label=f'ROC curve (area = {roc_auc:.2f})')\n",
    "    plt.plot([0, 1], [0, 1], color='navy', lw=2, linestyle='--')\n",
    "    plt.xlim([0.0, 1.0])\n",
    "    plt.ylim([0.0, 1.05])\n",
    "    plt.xlabel('False Positive Rate')\n",
    "    plt.ylabel('True Positive Rate')\n",
    "    plt.title('Receiver Operating Characteristic (ROC) Curve')\n",
    "    plt.legend(loc=\"lower right\")\n",
    "    plt.show()\n",
    "\n",
    "# Prepare the test data loader if not already done\n",
    "# No need to define test_df, use val_df instead\n",
    "test_data_loader = create_data_loader(val_df, tokenizer, MAX_LEN, BATCH_SIZE)\n",
    "  # test_df needs to be defined\n",
    "\n",
    "# Call the evaluation and visualization function\n",
    "evaluate_and_visualize(model, test_data_loader, device)\n"
   ]
  },
  {
   "cell_type": "code",
   "execution_count": null,
   "metadata": {},
   "outputs": [],
   "source": []
  }
 ],
 "metadata": {
  "kernelspec": {
   "display_name": "Python 3",
   "language": "python",
   "name": "python3"
  },
  "language_info": {
   "codemirror_mode": {
    "name": "ipython",
    "version": 3
   },
   "file_extension": ".py",
   "mimetype": "text/x-python",
   "name": "python",
   "nbconvert_exporter": "python",
   "pygments_lexer": "ipython3",
   "version": "3.12.2"
  }
 },
 "nbformat": 4,
 "nbformat_minor": 2
}
