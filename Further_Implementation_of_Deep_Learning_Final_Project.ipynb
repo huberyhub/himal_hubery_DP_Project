{
  "nbformat": 4,
  "nbformat_minor": 0,
  "metadata": {
    "colab": {
      "provenance": [],
      "gpuType": "T4",
      "authorship_tag": "ABX9TyPurpeqqfEixidZK45+7ka6",
      "include_colab_link": true
    },
    "kernelspec": {
      "name": "python3",
      "display_name": "Python 3"
    },
    "language_info": {
      "name": "python"
    },
    "accelerator": "GPU"
  },
  "cells": [
    {
      "cell_type": "markdown",
      "metadata": {
        "id": "view-in-github",
        "colab_type": "text"
      },
      "source": [
        "<a href=\"https://colab.research.google.com/github/huberyhub/himal_hubery_mateo_DP_Project/blob/main/Further_Implementation_of_Deep_Learning_Final_Project.ipynb\" target=\"_parent\"><img src=\"https://colab.research.google.com/assets/colab-badge.svg\" alt=\"Open In Colab\"/></a>"
      ]
    },
    {
      "cell_type": "code",
      "source": [
        "import pandas as pd\n",
        "import torch\n",
        "from torch.utils.data import Dataset, DataLoader\n",
        "from transformers import BertTokenizer, BertForSequenceClassification, AdamW, get_linear_schedule_with_warmup\n",
        "from sklearn.metrics import accuracy_score, precision_recall_fscore_support\n",
        "import numpy as np\n",
        "import random"
      ],
      "metadata": {
        "id": "QhrgUt1P-rZF"
      },
      "execution_count": 48,
      "outputs": []
    },
    {
      "cell_type": "markdown",
      "source": [
        "# Further Implementation of Deep Learning Final Project"
      ],
      "metadata": {
        "id": "0NdUnPPB-YMc"
      }
    },
    {
      "cell_type": "markdown",
      "source": [
        "#Data set preprocessing"
      ],
      "metadata": {
        "id": "Y_bN4j-_-w7x"
      }
    },
    {
      "cell_type": "markdown",
      "source": [
        "This code loads and processes DJIA and news headline datasets, merging them by date and labeling data for longer-term trend predictions based on stock price changes. The update includes finding all numerical data for the Dow Jones in addition to the original dataset. The `label_trend` function initializes labels to 0 and calculates short-term and long-term changes in stock prices. If both changes are positive, it labels an upward trend (1); if both are negative, a downward trend (0); otherwise, no clear trend (2). The processed DataFrame is saved to a new CSV file."
      ],
      "metadata": {
        "id": "aqB5oeb8BrLn"
      }
    },
    {
      "cell_type": "code",
      "source": [
        "# Load the datasets\n",
        "djia_df = pd.read_csv('/content/upload_DJIA_table.csv')\n",
        "headlines_df = pd.read_csv('/content/Combined_News_DJIA.csv')\n",
        "\n",
        "# Reverse the headlines dataset to match the date order with DJIA dataset\n",
        "headlines_df = headlines_df.iloc[::-1].reset_index(drop=True)\n",
        "\n",
        "# Combine all headline columns into a single text field\n",
        "headline_columns = [col for col in headlines_df.columns if col.startswith('Top')]\n",
        "headlines_df['Combined_Headlines'] = headlines_df[headline_columns].apply(lambda row: ' '.join(row.dropna().values.astype(str)), axis=1)\n",
        "\n",
        "# Keep only the necessary columns\n",
        "headlines_df = headlines_df[['Date', 'Combined_Headlines']]\n",
        "\n",
        "# Merge the datasets on the Date column\n",
        "merged_df = pd.merge(djia_df, headlines_df, on='Date', how='inner')\n",
        "\n",
        "# Label the data for longer-term predictions\n",
        "def label_trend(data, short_term_window=3, long_term_window=15):\n",
        "    data['Label'] = 0  # Initialize all labels to 0\n",
        "    for i in range(len(data) - long_term_window):\n",
        "        short_term_change = data['Close'].iloc[i + short_term_window] - data['Open'].iloc[i]\n",
        "        long_term_change = data['Close'].iloc[i + long_term_window] - data['Open'].iloc[i]\n",
        "        if short_term_change > 0 and long_term_change > 0:\n",
        "            data.loc[i, 'Label'] = 1  # Upward trend\n",
        "        elif short_term_change < 0 and long_term_change < 0:\n",
        "            data.loc[i, 'Label'] = 0  # Downward trend\n",
        "        else:\n",
        "            data.loc[i, 'Label'] = 2  # No clear trend\n",
        "    return data\n",
        "\n",
        "merged_df = label_trend(merged_df)\n",
        "\n",
        "# Save the merged dataframe to a new CSV file\n",
        "merged_df.to_csv('/content/Merged_DJIA_Headlines.csv', index=False)"
      ],
      "metadata": {
        "id": "NMxd0e6g-wDR"
      },
      "execution_count": 49,
      "outputs": []
    },
    {
      "cell_type": "markdown",
      "source": [
        "#Define dataset class"
      ],
      "metadata": {
        "id": "pIsr4YcA-6qK"
      }
    },
    {
      "cell_type": "markdown",
      "source": [
        "\n",
        "This code defines a NewsDataset class for handling news headlines, labels, and optional stock price data. It uses a tokenizer to encode headlines and price information into input tensors suitable for a PyTorch model. The class includes methods to get the dataset length and to retrieve and preprocess individual items, ensuring proper tokenization and padding."
      ],
      "metadata": {
        "id": "KL1PNX-JEN9w"
      }
    },
    {
      "cell_type": "code",
      "source": [
        "# Define the NewsDataset class\n",
        "class NewsDataset(Dataset):\n",
        "    def __init__(self, headlines, labels, tokenizer, max_len, prices=None):\n",
        "        self.headlines = headlines\n",
        "        self.labels = labels\n",
        "        self.tokenizer = tokenizer\n",
        "        self.max_len = max_len\n",
        "        self.prices = prices\n",
        "\n",
        "    def __len__(self):\n",
        "        return len(self.headlines)\n",
        "\n",
        "    def __getitem__(self, idx):\n",
        "        headline = str(self.headlines[idx])\n",
        "        label = self.labels[idx]\n",
        "        price_info = self.prices[idx] if self.prices is not None else \"\"\n",
        "\n",
        "        if pd.isna(headline):\n",
        "            headline = \"\"\n",
        "\n",
        "        encoding = self.tokenizer.encode_plus(\n",
        "            headline + \" \" + price_info,\n",
        "            add_special_tokens=True,\n",
        "            max_length=self.max_len,\n",
        "            return_token_type_ids=False,\n",
        "            padding='max_length',\n",
        "            truncation=True,\n",
        "            return_attention_mask=True,\n",
        "            return_tensors='pt',\n",
        "        )\n",
        "\n",
        "        return {\n",
        "            'headline_text': headline,\n",
        "            'input_ids': encoding['input_ids'].flatten(),\n",
        "            'attention_mask': encoding['attention_mask'].flatten(),\n",
        "            'labels': torch.tensor(label, dtype=torch.long)\n",
        "        }"
      ],
      "metadata": {
        "id": "zU9yBWeN-6OD"
      },
      "execution_count": 50,
      "outputs": []
    },
    {
      "cell_type": "markdown",
      "source": [
        "# Define the create_data_loader function"
      ],
      "metadata": {
        "id": "WCMRs10z_Kzv"
      }
    },
    {
      "cell_type": "code",
      "execution_count": 51,
      "metadata": {
        "id": "Q62FXhP39-7W"
      },
      "outputs": [],
      "source": [
        "def create_data_loader(df, tokenizer, max_len, batch_size):\n",
        "    df['Price_Info'] = df[['Open', 'High', 'Low', 'Close', 'Volume', 'Adj Close']].astype(str).agg(' '.join, axis=1)\n",
        "\n",
        "    ds = NewsDataset(\n",
        "        headlines=df['Combined_Headlines'].to_numpy(),\n",
        "        labels=df['Label'].to_numpy(),\n",
        "        tokenizer=tokenizer,\n",
        "        max_len=max_len,\n",
        "        prices=df['Price_Info'].to_numpy()\n",
        "    )\n",
        "\n",
        "    return DataLoader(ds, batch_size=batch_size, num_workers=0)"
      ]
    },
    {
      "cell_type": "markdown",
      "source": [
        "# Training specification"
      ],
      "metadata": {
        "id": "X9Gdrrkq_RMo"
      }
    },
    {
      "cell_type": "code",
      "source": [
        "# Example of model training\n",
        "EPOCHS = 10\n",
        "device = torch.device(\"cuda\" if torch.cuda.is_available() else \"cpu\")\n",
        "\n",
        "model = BertForSequenceClassification.from_pretrained('bert-base-uncased', num_labels=3)\n",
        "model = model.to(device)\n",
        "\n",
        "tokenizer = BertTokenizer.from_pretrained('bert-base-uncased')\n",
        "MAX_LEN = 128\n",
        "BATCH_SIZE = 16\n",
        "\n",
        "train_data_loader = create_data_loader(merged_df, tokenizer, MAX_LEN, BATCH_SIZE)\n",
        "val_data_loader = create_data_loader(merged_df, tokenizer, MAX_LEN, BATCH_SIZE) # Make sure to split data for training and validation\n",
        "\n",
        "optimizer = AdamW(model.parameters(), lr=2e-5)\n",
        "total_steps = len(train_data_loader) * EPOCHS\n",
        "\n",
        "scheduler = get_linear_schedule_with_warmup(\n",
        "    optimizer,\n",
        "    num_warmup_steps=0,\n",
        "    num_training_steps=total_steps\n",
        ")\n",
        "\n",
        "loss_fn = torch.nn.CrossEntropyLoss().to(device)"
      ],
      "metadata": {
        "colab": {
          "base_uri": "https://localhost:8080/"
        },
        "id": "xYPPa9X5_Zie",
        "outputId": "814eae7d-d18d-465b-c963-becb3e1ca651"
      },
      "execution_count": 52,
      "outputs": [
        {
          "output_type": "stream",
          "name": "stderr",
          "text": [
            "Some weights of BertForSequenceClassification were not initialized from the model checkpoint at bert-base-uncased and are newly initialized: ['classifier.bias', 'classifier.weight']\n",
            "You should probably TRAIN this model on a down-stream task to be able to use it for predictions and inference.\n",
            "/usr/local/lib/python3.10/dist-packages/transformers/optimization.py:521: FutureWarning: This implementation of AdamW is deprecated and will be removed in a future version. Use the PyTorch implementation torch.optim.AdamW instead, or set `no_deprecation_warning=True` to disable this warning\n",
            "  warnings.warn(\n"
          ]
        }
      ]
    },
    {
      "cell_type": "markdown",
      "source": [
        "#Define training function"
      ],
      "metadata": {
        "id": "pNROat_d_hWN"
      }
    },
    {
      "cell_type": "code",
      "source": [
        "def train_epoch(model, data_loader, loss_fn, optimizer, device, scheduler, n_examples):\n",
        "    model = model.train()\n",
        "\n",
        "    losses = []\n",
        "    correct_predictions = 0\n",
        "\n",
        "    for d in data_loader:\n",
        "        input_ids = d[\"input_ids\"].to(device)\n",
        "        attention_mask = d[\"attention_mask\"].to(device)\n",
        "        labels = d[\"labels\"].to(device)\n",
        "\n",
        "        outputs = model(\n",
        "            input_ids=input_ids,\n",
        "            attention_mask=attention_mask,\n",
        "        )\n",
        "\n",
        "        _, preds = torch.max(outputs.logits, dim=1)\n",
        "        loss = loss_fn(outputs.logits, labels)\n",
        "\n",
        "        correct_predictions += torch.sum(preds == labels)\n",
        "        losses.append(loss.item())\n",
        "\n",
        "        loss.backward()\n",
        "        optimizer.step()\n",
        "        scheduler.step()\n",
        "        optimizer.zero_grad()\n",
        "\n",
        "    return correct_predictions.double() / n_examples, np.mean(losses)"
      ],
      "metadata": {
        "id": "KtQJm98F_mlZ"
      },
      "execution_count": 53,
      "outputs": []
    },
    {
      "cell_type": "markdown",
      "source": [
        "# Define evaluation function"
      ],
      "metadata": {
        "id": "oMI3H5stD6YY"
      }
    },
    {
      "cell_type": "code",
      "source": [
        "def eval_model(model, data_loader, loss_fn, device, n_examples):\n",
        "    model = model.eval()\n",
        "\n",
        "    losses = []\n",
        "    correct_predictions = 0\n",
        "\n",
        "    with torch.no_grad():\n",
        "        for d in data_loader:\n",
        "            input_ids = d[\"input_ids\"].to(device)\n",
        "            attention_mask = d[\"attention_mask\"].to(device)\n",
        "            labels = d[\"labels\"].to(device)\n",
        "\n",
        "            outputs = model(\n",
        "                input_ids=input_ids,\n",
        "                attention_mask=attention_mask,\n",
        "            )\n",
        "\n",
        "            _, preds = torch.max(outputs.logits, dim=1)\n",
        "            loss = loss_fn(outputs.logits, labels)\n",
        "\n",
        "            correct_predictions += torch.sum(preds == labels)\n",
        "            losses.append(loss.item())\n",
        "\n",
        "    return correct_predictions.double() / n_examples, np.mean(losses)"
      ],
      "metadata": {
        "id": "x1VcHRdTD5Ia"
      },
      "execution_count": 54,
      "outputs": []
    },
    {
      "cell_type": "markdown",
      "source": [
        "#Model Training"
      ],
      "metadata": {
        "id": "-2LicypDABgm"
      }
    },
    {
      "cell_type": "code",
      "source": [
        "# Train and evaluate the model\n",
        "for epoch in range(EPOCHS):\n",
        "    print(f'Epoch {epoch + 1}/{EPOCHS}')\n",
        "    print('-' * 10)\n",
        "\n",
        "    train_acc, train_loss = train_epoch(\n",
        "        model,\n",
        "        train_data_loader,\n",
        "        loss_fn,\n",
        "        optimizer,\n",
        "        device,\n",
        "        scheduler,\n",
        "        len(merged_df)  # Assuming merged_df is the training dataset\n",
        "    )\n",
        "\n",
        "    print(f'Train loss {train_loss} accuracy {train_acc}')\n",
        "\n",
        "    val_acc, val_loss = eval_model(\n",
        "        model,\n",
        "        val_data_loader,  # Assuming val_data_loader is defined similarly\n",
        "        loss_fn,\n",
        "        device,\n",
        "        len(merged_df)  # Assuming merged_df is the validation dataset\n",
        "    )\n",
        "\n",
        "    print(f'Val loss {val_loss} accuracy {val_acc}')\n",
        "\n",
        "# Save the trained model\n",
        "model_save_path = 'bert_sequence_classification_model.pth'\n",
        "torch.save(model.state_dict(), model_save_path)\n",
        "print(f'Model saved to {model_save_path}')\n",
        "\n",
        "# Load the saved model\n",
        "model_load_path = 'bert_sequence_classification_model.pth'\n",
        "model = BertForSequenceClassification.from_pretrained('bert-base-uncased', num_labels=3)\n",
        "model.load_state_dict(torch.load(model_load_path))\n",
        "model = model.to(device)\n",
        "model.eval()  # Set the model to evaluation mode\n",
        "print(f'Model loaded from {model_load_path}')"
      ],
      "metadata": {
        "colab": {
          "base_uri": "https://localhost:8080/"
        },
        "id": "4rQPwEsm_hCK",
        "outputId": "9675db74-becb-4530-b2b8-2a79bdc8977f"
      },
      "execution_count": null,
      "outputs": [
        {
          "output_type": "stream",
          "name": "stdout",
          "text": [
            "Epoch 1/10\n",
            "----------\n",
            "Train loss 1.093067434310913 accuracy 0.3951734539969834\n",
            "Val loss 1.0681704244613648 accuracy 0.4233283056812468\n",
            "Epoch 2/10\n",
            "----------\n",
            "Train loss 1.07766752243042 accuracy 0.41880341880341876\n",
            "Val loss 1.061946400642395 accuracy 0.4233283056812468\n",
            "Epoch 3/10\n",
            "----------\n",
            "Train loss 1.0746863617897033 accuracy 0.41528406234288584\n",
            "Val loss 1.0404798240661621 accuracy 0.5485168426344896\n",
            "Epoch 4/10\n",
            "----------\n",
            "Train loss 1.032378689289093 accuracy 0.4786324786324786\n",
            "Val loss 0.9366126942634583 accuracy 0.5661136249371543\n",
            "Epoch 5/10\n",
            "----------\n",
            "Train loss 0.854963840007782 accuracy 0.6173956762192055\n",
            "Val loss 0.6329040094614029 accuracy 0.7164404223227752\n",
            "Epoch 6/10\n",
            "----------\n",
            "Train loss 0.6694988816976547 accuracy 0.7083961789844142\n",
            "Val loss 0.5730169392824173 accuracy 0.7410759175465057\n",
            "Epoch 7/10\n",
            "----------\n",
            "Train loss 0.5558750458359718 accuracy 0.7556561085972849\n",
            "Val loss 0.4724943578243256 accuracy 0.7782805429864252\n",
            "Epoch 8/10\n",
            "----------\n",
            "Train loss 0.4782993077039719 accuracy 0.7903469079939668\n",
            "Val loss 0.4292626286149025 accuracy 0.8039215686274509\n",
            "Epoch 9/10\n",
            "----------\n",
            "Train loss 0.44886240777373315 accuracy 0.804927099044746\n",
            "Val loss 0.46239132273197175 accuracy 0.8124685771744594\n",
            "Epoch 10/10\n",
            "----------\n",
            "Train loss 0.43959677627682686 accuracy 0.8034188034188033\n"
          ]
        }
      ]
    },
    {
      "cell_type": "markdown",
      "source": [
        "# Evaluation"
      ],
      "metadata": {
        "id": "nGolOUxIAKWe"
      }
    },
    {
      "cell_type": "markdown",
      "source": [
        "\n",
        "This function analyze_misclassifications evaluates a model to identify misclassified examples. It sets the model to evaluation mode, disables gradient calculation, and iterates through a data loader. For each batch, it computes predictions and compares them to the actual labels. If a prediction does not match the label, the text, predicted label, and actual label are saved. The function returns a list of these misclassified examples."
      ],
      "metadata": {
        "id": "7no6sxlhF-jS"
      }
    },
    {
      "cell_type": "code",
      "source": [
        "def analyze_misclassifications(model, data_loader, device):\n",
        "    model = model.eval()\n",
        "\n",
        "    misclassified_examples = []\n",
        "\n",
        "    with torch.no_grad():\n",
        "        for d in data_loader:\n",
        "            texts = d[\"headline_text\"]\n",
        "            input_ids = d[\"input_ids\"].to(device)\n",
        "            attention_mask = d[\"attention_mask\"].to(device)\n",
        "            labels = d[\"labels\"].to(device)\n",
        "\n",
        "            outputs = model(\n",
        "                input_ids=input_ids,\n",
        "                attention_mask=attention_mask\n",
        "            )\n",
        "\n",
        "            _, preds = torch.max(outputs.logits, dim=1)\n",
        "\n",
        "            for text, pred, label in zip(texts, preds, labels):\n",
        "                if pred != label:\n",
        "                    misclassified_examples.append((text, pred.item(), label.item()))\n",
        "\n",
        "    return misclassified_examples"
      ],
      "metadata": {
        "id": "5_YY_EFiAUCA"
      },
      "execution_count": 61,
      "outputs": []
    },
    {
      "cell_type": "markdown",
      "source": [
        "This code evaluates a model's performance by obtaining predictions and true labels from a validation dataset. It calculates and prints the accuracy, generates a detailed classification report, and creates a confusion matrix. The confusion matrix is then visualized using a seaborn heatmap to provide a graphical representation of the model's performance across different classes."
      ],
      "metadata": {
        "id": "zGzY7X99GSgZ"
      }
    },
    {
      "cell_type": "code",
      "source": [
        "from sklearn.metrics import confusion_matrix, classification_report, accuracy_score\n",
        "from sklearn.metrics import precision_recall_fscore_support, roc_curve, auc\n",
        "import seaborn as sns\n",
        "import matplotlib.pyplot as plt\n",
        "\n",
        "# Function to get predictions and true labels\n",
        "def get_predictions(model, data_loader, device):\n",
        "    model = model.eval()\n",
        "\n",
        "    predictions = []\n",
        "    true_labels = []\n",
        "\n",
        "    with torch.no_grad():\n",
        "        for d in data_loader:\n",
        "            input_ids = d[\"input_ids\"].to(device)\n",
        "            attention_mask = d[\"attention_mask\"].to(device)\n",
        "            labels = d[\"labels\"].to(device)\n",
        "\n",
        "            outputs = model(\n",
        "                input_ids=input_ids,\n",
        "                attention_mask=attention_mask\n",
        "            )\n",
        "\n",
        "            _, preds = torch.max(outputs.logits, dim=1)\n",
        "\n",
        "            predictions.extend(preds.cpu().numpy())\n",
        "            true_labels.extend(labels.cpu().numpy())\n",
        "\n",
        "    return predictions, true_labels\n",
        "\n",
        "# Get predictions and true labels\n",
        "predictions, true_labels = get_predictions(model, val_data_loader, device)\n",
        "\n",
        "# Calculate accuracy\n",
        "accuracy = accuracy_score(true_labels, predictions)\n",
        "print(f'Accuracy: {accuracy:.4f}')\n",
        "\n",
        "# Generate classification report\n",
        "class_report = classification_report(true_labels, predictions, target_names=['Downward', 'Upward', 'No Clear Trend'])\n",
        "print('Classification Report:')\n",
        "print(class_report)\n",
        "\n",
        "# Generate confusion matrix\n",
        "conf_matrix = confusion_matrix(true_labels, predictions)\n",
        "\n",
        "# Plot confusion matrix\n",
        "plt.figure(figsize=(8, 6))\n",
        "sns.heatmap(conf_matrix, annot=True, fmt='d', cmap='Blues', xticklabels=['Downward', 'Upward', 'No Clear Trend'], yticklabels=['Downward', 'Upward', 'No Clear Trend'])\n",
        "plt.xlabel('Predicted')\n",
        "plt.ylabel('True')\n",
        "plt.title('Confusion Matrix')\n",
        "plt.show()\n"
      ],
      "metadata": {
        "colab": {
          "base_uri": "https://localhost:8080/",
          "height": 772
        },
        "id": "jh366g3JA61m",
        "outputId": "d27db44e-32e3-4e0e-b9e1-0680e5750f39"
      },
      "execution_count": 62,
      "outputs": [
        {
          "output_type": "stream",
          "name": "stdout",
          "text": [
            "Accuracy: 0.8421\n",
            "Classification Report:\n",
            "                precision    recall  f1-score   support\n",
            "\n",
            "      Downward       0.93      1.00      0.97       842\n",
            "        Upward       0.94      0.36      0.52       472\n",
            "No Clear Trend       0.73      0.99      0.84       675\n",
            "\n",
            "      accuracy                           0.84      1989\n",
            "     macro avg       0.87      0.78      0.77      1989\n",
            "  weighted avg       0.87      0.84      0.82      1989\n",
            "\n"
          ]
        },
        {
          "output_type": "display_data",
          "data": {
            "text/plain": [
              "<Figure size 800x600 with 2 Axes>"
            ],
            "image/png": "[encoded data removed]"
          },
          "metadata": {}
        }
      ]
    },
    {
      "cell_type": "code",
      "source": [
        "import numpy as np\n",
        "import matplotlib.pyplot as plt\n",
        "from sklearn.metrics import roc_curve, auc\n",
        "from sklearn.preprocessing import label_binarize\n",
        "\n",
        "def plot_roc_curve_multiclass(model, data_loader, device, num_classes):\n",
        "    model.eval()  # Set the model to evaluation mode\n",
        "    true_labels = []\n",
        "    pred_probs = []\n",
        "\n",
        "    with torch.no_grad():\n",
        "        for d in data_loader:\n",
        "            input_ids = d[\"input_ids\"].to(device)\n",
        "            attention_mask = d[\"attention_mask\"].to(device)\n",
        "            labels = d[\"labels\"].to(device)\n",
        "\n",
        "            outputs = model(\n",
        "                input_ids=input_ids,\n",
        "                attention_mask=attention_mask,\n",
        "            )\n",
        "\n",
        "            # Assuming the model output is logits\n",
        "            probabilities = torch.softmax(outputs.logits, dim=1).cpu().numpy()\n",
        "            labels = labels.cpu().numpy()\n",
        "\n",
        "            true_labels.extend(labels)\n",
        "            pred_probs.extend(probabilities)\n",
        "\n",
        "    # Convert lists to numpy arrays\n",
        "    true_labels = np.array(true_labels)\n",
        "    pred_probs = np.array(pred_probs)\n",
        "\n",
        "    # Binarize the labels for multi-class ROC\n",
        "    true_labels_binarized = label_binarize(true_labels, classes=list(range(num_classes)))\n",
        "\n",
        "    # Compute ROC curve and ROC area for each class\n",
        "    fpr = dict()\n",
        "    tpr = dict()\n",
        "    roc_auc = dict()\n",
        "    for i in range(num_classes):\n",
        "        fpr[i], tpr[i], _ = roc_curve(true_labels_binarized[:, i], pred_probs[:, i])\n",
        "        roc_auc[i] = auc(fpr[i], tpr[i])\n",
        "\n",
        "    # Plot all ROC curves\n",
        "    plt.figure()\n",
        "    colors = ['aqua', 'darkorange', 'cornflowerblue', 'green', 'red']\n",
        "    for i in range(num_classes):\n",
        "        plt.plot(fpr[i], tpr[i], color=colors[i % len(colors)], lw=2,\n",
        "                 label=f'Class {i} ROC curve (area = {roc_auc[i]:0.2f})')\n",
        "\n",
        "    plt.plot([0, 1], [0, 1], 'k--', lw=2)\n",
        "    plt.xlim([0.0, 1.0])\n",
        "    plt.ylim([0.0, 1.05])\n",
        "    plt.xlabel('False Positive Rate')\n",
        "    plt.ylabel('True Positive Rate')\n",
        "    plt.title('Receiver Operating Characteristic for Multi-class')\n",
        "    plt.legend(loc=\"lower right\")\n",
        "    plt.show()\n",
        "\n",
        "# Example usage\n",
        "plot_roc_curve_multiclass(model, val_data_loader, device, num_classes=3)\n"
      ],
      "metadata": {
        "colab": {
          "base_uri": "https://localhost:8080/",
          "height": 472
        },
        "id": "2Lqv1CUPFFGs",
        "outputId": "e039332e-7c0a-45dc-fe47-c2f0a0e6fca7"
      },
      "execution_count": 63,
      "outputs": [
        {
          "output_type": "display_data",
          "data": {
            "text/plain": [
              "<Figure size 640x480 with 1 Axes>"
            ],
            "image/png": "[encoded data removed]"
          },
          "metadata": {}
        }
      ]
    },
    {
      "cell_type": "code",
      "source": [
        "# Test random headlines\n",
        "def test_random_headlines(df, tokenizer, model, device, num_samples=5):\n",
        "    samples = df.sample(n=num_samples)\n",
        "    for index, row in samples.iterrows():\n",
        "        headline = row['Combined_Headlines']\n",
        "        price_info = row['Price_Info'] if 'Price_Info' in row else \"\"\n",
        "\n",
        "        encoding = tokenizer.encode_plus(\n",
        "            headline + \" \" + price_info,\n",
        "            add_special_tokens=True,\n",
        "            max_length=128,\n",
        "            return_token_type_ids=False,\n",
        "            padding='max_length',\n",
        "            truncation=True,\n",
        "            return_attention_mask=True,\n",
        "            return_tensors='pt',\n",
        "        )\n",
        "\n",
        "        input_ids = encoding['input_ids'].to(device)\n",
        "        attention_mask = encoding['attention_mask'].to(device)\n",
        "\n",
        "        with torch.no_grad():\n",
        "            outputs = model(input_ids=input_ids, attention_mask=attention_mask)\n",
        "            _, preds = torch.max(outputs.logits, dim=1)\n",
        "\n",
        "        print(f\"Headline: {headline}\")\n",
        "        print(f\"Predicted: {preds.item()}\")\n",
        "        print(\"----\")\n",
        "\n",
        "# Test random headlines\n",
        "test_random_headlines(merged_df, tokenizer, model, device)"
      ],
      "metadata": {
        "colab": {
          "base_uri": "https://localhost:8080/"
        },
        "id": "0J8fNjK7A-zh",
        "outputId": "5cd06d8b-3b23-49e2-8206-4d133506cd40"
      },
      "execution_count": 64,
      "outputs": [
        {
          "output_type": "stream",
          "name": "stdout",
          "text": [
            "Headline: Women in Tokyo are threatening a sex boycott against any man who votes for the front-runner in this weekend's gubernatorial election, in protest at his claim that menstruation makes women unfit for government. UK: Police will have 'backdoor' access to health records despite opt-out, says MP | David Davis says police would be able to approach central NHS database without a warrant as critics warn of catastrophic breach of trust HSBC settlement approved: no criminal charges, 5 weeks' profit in fines, deferred bonuses for laundering billions for narco-terrorists There are spy-cams in Olympic showers, Russian Deputy PM admits Massive protests in cities all over Bosnia. Citizens torching government buildings. China fury at Japanese claim that Nanjing massacre never took place: Board member at Japan's state broadcaster denies infamous wartime slaughter of tens of thousands ever happened Saudi female student dies after male ambulance crew denied access: University officials argued that the ambulance staff were males and could not enter the premises Great Barrier Reef on brink of devastation in relentless quest for coal Why 2,000 passengers just rioted at an airport in China - more than 2,000 delayed passengers stormed check-in counters at an airport in Henan province, smashing computers and equipment, in response to the airports five-hour long shutdown because of snow. Myanmar arrests five journalists for reporting the governments hiding a chemical weapons production plant. Chinas military worries that its only-child recruits are wimps - Chinas millions of only childrenknown as little emperors for how they are doted upon by parents and grandparentsmay turn out to be terrible soldiers. \"The World Bank's former chief economist wants to replace the US dollar with a single global super-currency, saying it will create a more stable global financial system. 'The dominance of the greenback is the root cause of global financial and economic crises,' Justin Yifu Lin told Bruegel\" 900,000 year old footprints in the UK have been confirmed as human 76-year-old German woman celebrates birthday with cocaine binge in Berlin bar Video emerged of military dog taken hostage by Taliban. Thousands of Saudis vented their anger online over a report that staff at a Riyadh university had barred male paramedics from entering a women's-only campus to assist a student who had suffered a heart attack and later died Bosnian police use stun grenades, rubber bullets as protesters torch government building  reports Russia bans Bitcoin Big Pharma presses US to quash cheap drug production in India Message to North Korea engagers: Youre helping Kim Jong - People in Pyongyang and Wonsan have been watching buses disgorge respectful Europeans and Americans for years now. The regime spins these visits as pilgrimages, and the locals are invested enough in the national life-lie to believe it. A Nobel Peace Prize for legalizing marijuana  why not? -- Uruguays President Jos Pepe Mujica has been nominated for the Nobel Peace Prize for the second year in a row  for legalizing marijuana. Winning the lottery makes you more conservative, study finds: A sudden windfall makes people less compassionate and 18% of winners immediately switched support to conservatives Solar Water Pumps Wean Farmers From Indias Archaic Grid - My crops would have failed if I hadnt opted for a solar pump. Leaked tape, US involvement in Ukraine. Third day of demonstrations in Bosnia and Herzegovina. Government buildings are on fire.\n",
            "Predicted: 2\n",
            "----\n",
            "Headline: 12 year old girl ends life to donate eyes to dad &amp; a kidney to her brother What The Papers Wont Say --- \n",
            "On Britain's phone-hacking scandal. Obviously, News of the World and News International are to blame. But so are politicians of both sides, for being frightened of Rupert Murdoch. And other newspapers, for keeping quiet about it Powerful 7.8 earthquake hits New Zealand For The Moment, Visa And MasterCard Reopen Payments To WikiLeaks NYT supports UN report that warned against overzealous attempts by democratic states to  censor the Internet. Nobody should be banned from the Internet. It is a fundamental tool for enabling free speech More Advertisers Boycott News Of The World: Ford, Mitsibushi, The Co-operative Group, Vauxhall, Lloyds Banking Group and Virgin Holidays have suspended adverts in the News Of The World over phone hacking claims James Murdoch announces News of the World to close amid phone-hacking scandal (BBC) North Korea paid Pakistan for nuclear weapons technology The Royal British Legion has cut ties with the News of the World as its campaigning partner amid claims the paper may have hacked into the mobile phones of bereaved military families. Now London Police probe the 'The Sun' While a bit dated, this shows that the wikileaks cables paint a far more nuanced picture of American diplomacy than simply one of nefarious manipulation The \"Big Three\" rating agencies can determine the fate of entire countries. Now Portugal is under pressure after Moody's downgraded its debt to junk status. European politicians want to create an alternative, even though they helped give so much power to the agencies in the first place. Just so you don't think that 'News of the World' was a one time thing, here are the Top 10 NewsCorp scandals David Cameron is in the sewer: The disgusting revelations concerning his friends and associates from Rupert Murdochs News International has permanently and irrevocably damaged his reputation Rupert Murdoch Meets His Ahab Former News of the World editor Andy Coulson to be arrested over phone hacking Today Kenya becomes the first country in Africa to launch a national open data initiative.  Another priest, more victims of predatory sexual behavior, but this time in a country basically run by the Vatican. (They only reopened the case after the Vatican found the priest guilty.) Extra points for guessing the country before reading.  South Sudan: the birth of a new republic Iraq abuse ruling by European court says UK failed human rights role | World news | guardian.co.uk  Last Wild Camels in China Could be Saved with Embryonic Transfer Technique Perfected in U.A.E.  Pakistan Expands Nuke Arsenal Is Murdoch free to destroy tabloid's records? | Reuters MediaFile Portugal Celebrates 10 Year Anniversary of Decriminalizing Drugs  EU Upset by Microsoft Warning About US Access to EU Cloud: Members of European Parliament demand to know what lawmakers intend to do about the conflict between the EU's Data Protection Directive and the US Patriot Act\n",
            "Predicted: 0\n",
            "----\n",
            "Headline: North Korea acknowledges reform camps for first time - AP 'I touched my face with gloves': nurse with Ebola Burned bodies of 28 Mexican teaching students pulled from mass graves: \"Forty-three students went missing September 26 after they were attacked by police while commandeering buses to take them to a demonstration against cuts in funding for their school.\" Ugandan MP says Uganda is losing the fight against AIDS because \"condoms are too small for Ugandan men\" Japan and the United States are revising their mutual defense guidelines for the first time in nearly two decades to respond to China's military expansion and increase Japan's role in regional defense. ISIS is Cutting Off Water to Uncooperative Villages - In parched Syria &amp; Iraq, water is a weapon India strikes 37 Pakistani outposts, kills 15 in a severe escalation of hostilities along the border Russia's finance minister has said that the country could no longer afford a multi-billion-dollar revamp of the armed forces approved by President Vladimir Putin, stepping up a campaign to trim spending as sanctions over the Ukraine crisis bite. Banker admits Libor fraud conspiracy. A senior banker from a UK bank has admitted conspiring to defraud over manipulating the Libor lending rate. US Air Force fighter jet crashes in UK during exercise ISIS document discloses plans to seize Iran's nuclear secrets Spanish Ebola nurse reported symptoms many times before being quarantined: Teresa Romero Ramos says when she first told health authorities of her symptoms she was given only paracetamol Hackers are stealing millions from ATM worldwide using a new malware called as Tyupkin. This malware, which once installed on an ATM, allows the criminals to steal huge amounts of money by simply entering a series of codes Turkish Inaction on ISIS Advance Dismays the U.S. Russians attacked in Moscow for wearing 'Western' symbols UN official statement \"The world, all of us, will regret deeply if ISIS is able to take over a city which has defended itself with courage but is close to not being able to do so. We need to act now\" Chile's Supreme court on Tuesday suspended the development of El Morro mine owned by Canada's Goldcorp after siding with indigenous groups that oppose it on environmental grounds The UK parliament will be voting on a motion to recognise the state of Palestine alongside the state of Israel on 13 October. Demonstrations break out across Iran in support of Kobani Kurds. Iran op-ed calls for Qods Force commander, Qassem Soleimani, to intervene to defend Kobani Syria admits it has four more chemical weapons plants, says UN official. The disclosure heightens fears Damascus has not been open about its programme and that extremist groups could seize lethal chemicals Spanish Ebola case: 'I am due to treat the patient. But I have no idea what to do' Islamic State terror group identified its next target, a former U.S. Army Ranger who was captured in Lebanon last year during a relief mission to help Syrian refugees. News - Islamic State group flier claims responsibility for Gaza terror attack Canadian Parliament officially approves airstrikes against ISIS. Canadian-made Ebola vaccine moving ahead to trial stage\n",
            "Predicted: 1\n",
            "----\n",
            "Headline: Faced with a cash shortage in its so-called caliphate, the Islamic State group has slashed salaries across the region, asked Raqqa residents to pay utility bills in black market American dollars, and is now releasing detainees for a price of $500 a person. According to NASA data this January was the warmest January on record by a large margin while also claiming the title of most anomalously warm month in 135 years of record keeping US stealth jets flying over S. Korea amid N. Korea standoff A piece of Mozart music considered lost for more than 200 years has been performed for the first time since being rediscovered. It was co-written by him and Antonio Salieri, usually considered a rival, as well as an unknown composer, Cornetti. Iranian Heavy Metal Band 'Confess' Reportedly Arrested for Blasphemy, Could Face Execution Paedophile who led child sex grooming ring using human rights laws to try to block deportation 800 Bataclan survivors get to \"finish the concert\" last night in Paris with Eagles of Death Metal Eagles of Death Metal perform again in Paris to honour victims - starts concert by performing \"Paris s'veille\" In a first, new Egyptian schoolbook teaches peace deal with Israel Nine out of 10 Britons on modest incomes under the age of 35 will be frozen out of home ownership within a decade, according to a study from a leading thinktank that lays bare the impact of surging property prices on the young. UK government to force all online porn users to identify themselves Child abuse survivors raise $90,000 to see Australia's most senior Catholic official, George Pell, give evidence in Rome after he avoids flying to Australia and testifying in person to a child sexual abuse Royal Commission. Young Saudis See Cushy Jobs Vanish Along With Nations Oil Wealth: For younger Saudis  70 percent of them are under age 30  the oil shock has meant a lowering of expectations as they face the likelihood that they will have to work harder than their parents, enjoy less job security As India prepares to import corn for the first time in 16 years, it plans to import only GMO-free corn TTIP could block Governments from cracking down on tax avoidance, study warns. Similar trade agreements have been used to facilitate apparent tax avoidance in the past Germany will normalize ties with Iran after it recognizes Israel  Merkel China sends missiles to contested South China Sea island Turkey's Erdogan: no intent to stop retaliatory shelling of Syrian Kurdish YPG French ex-President Nicolas Sarkozy has been placed under formal investigation in a probe into his campaign funding, prosecutors say. Iran invites Indian investment in projects worth $8 billion, offers stake in Imam Khomeini airport Iranian banks reconnected to global payments network Saudi Arabia Launches unprecedented Military Exercise 'Thunder of the North'. Tensions rise in the area. Hong Kongs popular, lucrative horror movie about Beijing has disappeared from theaters Russian vodka exports slump 40% because of sanctions The overconsumption of meat will inevitably push global temperatures to dangerous levels, a recent study has warned.\"Global consumption of meat is forecast to increase 76% on recent levels by mid-century. A protein transition is playing out across the developing world\n",
            "Predicted: 0\n",
            "----\n",
            "Headline: \"We now know that Visa, Mastercard, PayPal and others are instruments of US foreign policy\" - Julian Assange UK, not Sweden, behind efforts to keep Assange in jail - the British are lying WikiLeaks Big Oil spills: BP covers up blowout, blackmails Azerbaijan An Italian court increased sentences for 23 CIA agents convicted in absentia of abducting an Egyptian imam in one of the biggest cases against the US \"extraordinary rendition\" program Former-Labour minister calls for all drugs to be legally available, claiming 'the war on drugs does not work' Greece paralyzed by general strike, protests - Some 20,000 protesters chanting \"no sacrifice for the rich\" marched through Athens Wednesday as a general strike against austerity measures grounded flights, closed factories, and disrupted hospital and transport services. UK may ban student protests Canadian PM: I Will Defend Israel 'whatever the cost' Police attack protesters during Greek general strike. \"Police brutally attacked demonstrators, who fought back, as an estimated 100,000 people took to the streets in a general strike that brought Greece's major cities to a standstill.\" UK police chief wants to BAN PROTESTS Things are getting bad and about to get worse in Cote d'Ivoire. Following the disputed elections, troops fired on protesters killing at least 9. Quebec Judge's fuck-up corrected by Texas judge, but too late.  One kid dead, another wounded when homicidal nutcase loses custody. European Court of Human Rights ruling will force Ireland to reconsider its abortion laws. Italian court ups sentences for 23 CIA agents BREAKING NEWS: Critically Endangered Black Rhino Slaughtered in Serengeti National Park, Tanzania \tFrench minister praises Assange's support of media freedom Wikileaks's Julian Assange speaks of his relief at being freed. Iraq's war on Christians - Oil and geopolitics prevent the United States and Western European countries from speaking out against what amounts to genocide against Christians in the Middle East. TV psychic had to be stopped, says child sex victim High Court justice Duncan Ouseley rejected prosecutors' argument that Assange should stay in prison and granted him conditional bail. Ireland is still in denial over abortion: Every year thousands of Irish women travel abroad for abortions. Police Make Preventative Arrests in Moscow - Police detained anyone whom they considered a potential threat, dragging them to waiting police buses. The situation in Moscow is under the control of law enforcement agencies,\" police spokesman Viktor Biryukov said. Kosovo prime minister implicated in election fraud, \n",
            "murder, organ harvesting, and drug trafficking Sweden's far-right seizes on terrorist attack: Anti-immigrant parties use Stockholm bombing for political gain Vatican could give master classes when it comes to Machiavellian power play\n",
            "Predicted: 0\n",
            "----\n"
          ]
        }
      ]
    },
    {
      "cell_type": "markdown",
      "source": [
        "The `predict_headlines` function allows manual input of one or multiple headlines to obtain predictions from a trained BERT model. It takes a list of headlines, tokenizes them using the provided tokenizer, and processes them with the model in evaluation mode. Each headline is converted into input IDs and attention masks, which are fed into the model to obtain predictions. The function returns the predicted labels for each headline. This functionality is useful for real-time prediction and evaluation of new, unseen headlines to understand how the model interprets and classifies them based on the training it received."
      ],
      "metadata": {
        "id": "T0Ncvv4-HmO1"
      }
    },
    {
      "cell_type": "code",
      "source": [
        "def predict_headlines(headlines, model, tokenizer, device, max_len=128):\n",
        "    model = model.eval()\n",
        "    predictions = []\n",
        "\n",
        "    for headline in headlines:\n",
        "        encoding = tokenizer.encode_plus(\n",
        "            headline,\n",
        "            add_special_tokens=True,\n",
        "            max_length=max_len,\n",
        "            return_token_type_ids=False,\n",
        "            padding='max_length',\n",
        "            truncation=True,\n",
        "            return_attention_mask=True,\n",
        "            return_tensors='pt',\n",
        "        )\n",
        "\n",
        "        input_ids = encoding['input_ids'].to(device)\n",
        "        attention_mask = encoding['attention_mask'].to(device)\n",
        "\n",
        "        with torch.no_grad():\n",
        "            outputs = model(input_ids=input_ids, attention_mask=attention_mask)\n",
        "            _, preds = torch.max(outputs.logits, dim=1)\n",
        "\n",
        "        predictions.append(preds.item())\n",
        "\n",
        "    return predictions\n",
        "\n",
        "# Example usage\n",
        "headlines1 = [\n",
        "    \"Stocks rally as new economic data beats expectations\",\n",
        "    \"The Fed lower the interest rate\"\n",
        "    \"Unemployment rate increase\",\n",
        "    \"The Fed increase the interest rate\"\n",
        "]\n",
        "\n",
        "# For personal implementation\n",
        "headlines2 = [\"\"\n",
        "]\n",
        "\n",
        "predictions1 = predict_headlines(headlines1, model, tokenizer, device)\n",
        "predictions2 = predict_headlines(headlines2, model, tokenizer, device)\n",
        "\n",
        "print(\"Predictions1:\", predictions1)\n",
        "print(\"Predictions2:\", predictions2)\n"
      ],
      "metadata": {
        "colab": {
          "base_uri": "https://localhost:8080/"
        },
        "id": "ma5YMlLsHlnP",
        "outputId": "6d112bb9-6933-4ca4-b09e-b6614db7eb07"
      },
      "execution_count": 68,
      "outputs": [
        {
          "output_type": "stream",
          "name": "stdout",
          "text": [
            "Predictions1: [2, 2, 2]\n",
            "Predictions2: [2]\n"
          ]
        }
      ]
    }
  ]
}