{
 "cells": [
  {
   "cell_type": "code",
   "execution_count": null,
   "metadata": {},
   "outputs": [],
   "source": [
    "import numpy as np\n",
    "import pandas as pd\n",
    "from sklearn.model_selection import train_test_split\n",
    "from sklearn.feature_extraction.text import CountVectorizer\n",
    "from sklearn.preprocessing import LabelEncoder"
   ]
  },
  {
   "cell_type": "code",
   "execution_count": null,
   "metadata": {},
   "outputs": [],
   "source": [
    "# Load the combined dataset\n",
    "data = pd.read_csv('Datasets/Combined_News_DJIA.csv')\n",
    "\n",
    "# Preprocess the news headlines\n",
    "# Concatenate all the news headlines into a single string for each record\n",
    "data['All_Headlines'] = data[data.columns[2:]].apply(lambda x: ' '.join(x.dropna().astype(str)), axis=1)\n",
    "\n",
    "\n",
    "# Initialize a CountVectorizer to convert the headlines to a matrix of token counts\n",
    "vectorizer = CountVectorizer(max_features=5000)  # You can adjust max_features based on your computational capacity\n",
    "X = vectorizer.fit_transform(data['All_Headlines']).toarray()\n",
    "\n",
    "# Prepare the output matrix\n",
    "encoder = LabelEncoder()\n",
    "Y = encoder.fit_transform(data['Label'].values)\n",
    "\n",
    "# Split the dataset into training and testing sets based on the provided date ranges\n",
    "train = data[(data['Date'] >= '2008-08-08') & (data['Date'] <= '2014-12-31')]\n",
    "test = data[(data['Date'] >= '2015-01-02') & (data['Date'] <= '2016-07-01')]"
   ]
  },
  {
   "cell_type": "code",
   "execution_count": null,
   "metadata": {},
   "outputs": [],
   "source": [
    "X_train, X_test = X[data.index.isin(train.index)], X[data.index.isin(test.index)]\n",
    "Y_train, Y_test = Y[data.index.isin(train.index)], Y[data.index.isin(test.index)]"
   ]
  },
  {
   "cell_type": "code",
   "execution_count": null,
   "metadata": {},
   "outputs": [],
   "source": []
  }
 ],
 "metadata": {
  "language_info": {
   "name": "python"
  }
 },
 "nbformat": 4,
 "nbformat_minor": 2
}
